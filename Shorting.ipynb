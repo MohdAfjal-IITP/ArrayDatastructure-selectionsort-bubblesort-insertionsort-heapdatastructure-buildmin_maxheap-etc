{
 "cells": [
  {
   "cell_type": "markdown",
   "id": "6ab6593c",
   "metadata": {},
   "source": [
    "Shorting"
   ]
  },
  {
   "cell_type": "code",
   "execution_count": 15,
   "id": "9eaa5e7d",
   "metadata": {},
   "outputs": [
    {
     "name": "stdout",
     "output_type": "stream",
     "text": [
      "[1, 2, 3, 4]\n"
     ]
    }
   ],
   "source": [
    "# bubble sorting\n",
    "# Time compuxity  = wast-case and best-case = O(n^2)\n",
    "def bubbleSort(arr):\n",
    "    for i in range(len(arr)-1 , 0 , -1):\n",
    "        for j in range(i):\n",
    "            if arr[j] > arr[j+1]:\n",
    "                arr[j],arr[j+1] = arr[j+1],arr[j]\n",
    "\n",
    "arr = [4,2,3,1]\n",
    "bubbleSort(arr)\n",
    "print(arr)"
   ]
  },
  {
   "cell_type": "code",
   "execution_count": 16,
   "id": "2590c723",
   "metadata": {},
   "outputs": [
    {
     "name": "stdout",
     "output_type": "stream",
     "text": [
      "Array is aleady sorted\n",
      "[1, 2, 3, 4, 5]\n"
     ]
    }
   ],
   "source": [
    "# optimize bubble sorting \n",
    "# Time compuxity  = wast case = O(n^2) , Best case = O(n)\n",
    "# selection sorting\n",
    "# time ccomplecity O(n^2)\n",
    "# comparision O(n^2)\n",
    "# swaps = n^2\n",
    "\n",
    "def bubbleSortOptimize(arr):\n",
    "    for i in range(len(arr)-1 , 0 , -1):\n",
    "        isSorted = True\n",
    "        for j in range(i):\n",
    "            if arr[j] > arr[j+1]:\n",
    "                isSorted = False\n",
    "                arr[j],arr[j+1] = arr[j+1],arr[j]\n",
    "        if isSorted:\n",
    "            print (\"Array is aleady sorted\")\n",
    "            break\n",
    "\n",
    "arr = [1,2,3,4,5]\n",
    "bubbleSortOptimize(arr)\n",
    "print(arr)"
   ]
  },
  {
   "cell_type": "code",
   "execution_count": 17,
   "id": "04eaf5e4",
   "metadata": {},
   "outputs": [
    {
     "name": "stdout",
     "output_type": "stream",
     "text": [
      "array is not sorted\n",
      "[1, 2, 3, 4, 6, 5]\n"
     ]
    }
   ],
   "source": [
    "# Given an array , check if the array is sorted ?\n",
    "\n",
    "def isSorted(arr):\n",
    "    isSorted = True\n",
    "    for i in range(len(arr)-1):\n",
    "            if arr[i] > arr[i+1]:\n",
    "                isSorted = False\n",
    "                break\n",
    "    if isSorted:\n",
    "        print(\" array is allrady sorted \")\n",
    "    else:\n",
    "         print(\"array is not sorted\")\n",
    "\n",
    "\n",
    "arr = [1,2,3,4,6,5]\n",
    "isSorted(arr)\n",
    "print(arr)"
   ]
  },
  {
   "cell_type": "markdown",
   "id": "43be10e5",
   "metadata": {},
   "source": [
    "Selection Sorting"
   ]
  },
  {
   "cell_type": "code",
   "execution_count": 18,
   "id": "d00a66c2",
   "metadata": {},
   "outputs": [
    {
     "name": "stdout",
     "output_type": "stream",
     "text": [
      "[1, 2, 3, 5, 6]\n"
     ]
    }
   ],
   "source": [
    "# selection sorting\n",
    "# time ccomplecity O(n^2)\n",
    "# comparision O(n^2)\n",
    "# swaps = n\n",
    "\n",
    "\n",
    "def selection(arr):\n",
    "    for i in range(len(arr)):\n",
    "        min = i\n",
    "        # Finding the smallest values\n",
    "        for j in range(i+1 , len(arr)):\n",
    "            if arr[j] < arr[min]:\n",
    "                min = j\n",
    "        arr[i],arr[min] = arr[min],arr[i]\n",
    "\n",
    "arr = [1,3,6,2,5]\n",
    "selection(arr)\n",
    "print(arr)\n",
    "            "
   ]
  },
  {
   "cell_type": "markdown",
   "id": "3a27a19c",
   "metadata": {},
   "source": [
    "Insertion sort / online sorting"
   ]
  },
  {
   "cell_type": "code",
   "execution_count": 19,
   "id": "3cff24e9",
   "metadata": {},
   "outputs": [
    {
     "name": "stdout",
     "output_type": "stream",
     "text": [
      "[1, 2, 3, 6, 8]\n"
     ]
    }
   ],
   "source": [
    "# insertion sorting\n",
    "# time ccomplecity O(n^2)\n",
    "# comparision O(n^2)\n",
    "# swaps = n^2\n",
    "\n",
    "\n",
    "def insertion_sort(arr):\n",
    "    for i in range(1 , len(arr)):\n",
    "        v = arr[i]\n",
    "        j = i\n",
    "        while(j>=1 and arr[j-1] > v):\n",
    "            arr[j] = arr[j-1]\n",
    "            j -= 1\n",
    "        arr[j] = v\n",
    "\n",
    "arr = [2,6,8,1,3]\n",
    "insertion_sort(arr)\n",
    "print(arr)\n",
    "        "
   ]
  },
  {
   "cell_type": "markdown",
   "id": "06455d78",
   "metadata": {},
   "source": [
    "Search"
   ]
  },
  {
   "cell_type": "code",
   "execution_count": 20,
   "id": "0f65adcc",
   "metadata": {},
   "outputs": [
    {
     "data": {
      "text/plain": [
       "'No 7 is present'"
      ]
     },
     "execution_count": 20,
     "metadata": {},
     "output_type": "execute_result"
    }
   ],
   "source": [
    "def search(arr,num):\n",
    "    for i in range(len(arr)):\n",
    "        if arr[i] == num:\n",
    "            return (f\"yes : {num} is present\")\n",
    "\n",
    "    return (f\"No {num} is present\")\n",
    "\n",
    "arr = [3,5,9,2,1000,800,44]\n",
    "num = 7\n",
    "search(arr,num)"
   ]
  },
  {
   "cell_type": "markdown",
   "id": "6bce36bc",
   "metadata": {},
   "source": [
    "Binary Search"
   ]
  },
  {
   "cell_type": "code",
   "execution_count": 21,
   "id": "d70e20d7",
   "metadata": {},
   "outputs": [
    {
     "name": "stdout",
     "output_type": "stream",
     "text": [
      "1\n"
     ]
    }
   ],
   "source": [
    "def binarySearch(arr , num):\n",
    "    left = 0\n",
    "    right = len(arr)-1\n",
    "\n",
    "    while (left<=right):\n",
    "        # mid = (right+left)/2\n",
    "        mid = int(left + (right-left)/2)\n",
    "        if arr[mid] == num:\n",
    "            return mid\n",
    "        elif arr[mid] > num :\n",
    "            right = mid -1\n",
    "        else:\n",
    "            left = mid+1\n",
    "    return -1\n",
    "    \n",
    "print(binarySearch([1,2,4,5,7,8,9] , 2))"
   ]
  },
  {
   "cell_type": "code",
   "execution_count": 22,
   "id": "b53a4382",
   "metadata": {},
   "outputs": [
    {
     "name": "stdout",
     "output_type": "stream",
     "text": [
      "1\n",
      "2\n",
      "3\n",
      "4\n"
     ]
    }
   ],
   "source": [
    "# Recursion \n",
    "\n",
    "def Printnum (arr,SI):\n",
    "    # Base Case Condition\n",
    "    if arr[SI] >= len(arr):\n",
    "        return\n",
    "    # Logic \n",
    "    print(arr[SI])\n",
    "\n",
    "    # Recursivr Call\n",
    "    Printnum(arr,SI+1)\n",
    "\n",
    "# Driver Code\n",
    "Printnum([1,2,3,4,5] , 0)"
   ]
  },
  {
   "cell_type": "code",
   "execution_count": 23,
   "id": "b564e376",
   "metadata": {},
   "outputs": [
    {
     "name": "stdout",
     "output_type": "stream",
     "text": [
      "4\n",
      "3\n",
      "2\n",
      "1\n"
     ]
    }
   ],
   "source": [
    "# Recursion \n",
    "\n",
    "def Printnum (arr,SI):\n",
    "    # Base Case Condition\n",
    "    if arr[SI] >= len(arr):\n",
    "        return\n",
    "\n",
    "    # Recursivr Call\n",
    "    Printnum(arr,SI+1)\n",
    "\n",
    "    # Logic \n",
    "    print(arr[SI])\n",
    "\n",
    "# Driver Code\n",
    "Printnum([1,2,3,4,5] , 0)"
   ]
  },
  {
   "cell_type": "code",
   "execution_count": 24,
   "id": "54a16db9",
   "metadata": {},
   "outputs": [
    {
     "name": "stdout",
     "output_type": "stream",
     "text": [
      "0\n"
     ]
    }
   ],
   "source": [
    "# [3,4,2,1,4] Find the smallest no using recursion\n",
    "\n",
    "def findmin(arr,si):\n",
    "\n",
    "    if si >=len(arr):\n",
    "        return 9999999\n",
    "    \n",
    "    return min(arr[si] , findmin(arr,si+1))\n",
    "    \n",
    "\n",
    "print(findmin([3,4,8,2,1,0,3,7] , 0))\n",
    "    "
   ]
  },
  {
   "cell_type": "code",
   "execution_count": 25,
   "id": "6fc51ee8",
   "metadata": {},
   "outputs": [
    {
     "name": "stdout",
     "output_type": "stream",
     "text": [
      "-5\n"
     ]
    }
   ],
   "source": [
    "def findmin(arr,si):\n",
    "\n",
    "    if si >=len(arr):\n",
    "        return 9999999\n",
    "    \n",
    "    return ( arr[si] if arr[si] < findmin(arr,si+1) else findmin(arr,si+1) )\n",
    "    \n",
    "\n",
    "print(findmin([1,2,6,-5,0,-1] , 0))"
   ]
  },
  {
   "cell_type": "code",
   "execution_count": 26,
   "id": "d824406c",
   "metadata": {},
   "outputs": [
    {
     "name": "stdout",
     "output_type": "stream",
     "text": [
      "1\n",
      "3\n",
      "7\n",
      "15\n",
      "1023\n"
     ]
    }
   ],
   "source": [
    "# tower \n",
    "\n",
    "def moves(n , s ,d ,a):\n",
    "    # Base condition \n",
    "\n",
    "    if n == 1 :\n",
    "        return 1\n",
    "    \n",
    "# move n-1  s --> a , then move 1 biggest coin to s --> d and then n-1 coin a --> d\n",
    "    return moves(n-1,s,a,d) + 1 + moves(n-1,a,d,s)\n",
    "\n",
    "print(moves(1,'s','d','a'))\n",
    "print(moves(2,'s','d','a'))\n",
    "print(moves(3,'s','d','a'))\n",
    "print(moves(4,'s','d','a'))\n",
    "print(moves(10,'s','d','a'))"
   ]
  },
  {
   "cell_type": "code",
   "execution_count": 27,
   "id": "59dd75de",
   "metadata": {},
   "outputs": [
    {
     "name": "stdout",
     "output_type": "stream",
     "text": [
      "4\n"
     ]
    }
   ],
   "source": [
    "# Liner search in Recursion\n",
    "\n",
    "def liner_Search(arr , n , I):\n",
    "    # Base Condition\n",
    "    if len(arr) <= I:\n",
    "        return -1\n",
    "    \n",
    "    # Recurtion call\n",
    "    \n",
    "    return I if arr[I] == num else liner_Search(arr, n , I+1)\n",
    "\n",
    "arr = [1,2,3,4,5,6]\n",
    "num = 5\n",
    "I = 0\n",
    "print(liner_Search(arr,num,I))"
   ]
  },
  {
   "cell_type": "code",
   "execution_count": 28,
   "id": "02fe7e57",
   "metadata": {},
   "outputs": [
    {
     "data": {
      "text/plain": [
       "4"
      ]
     },
     "execution_count": 28,
     "metadata": {},
     "output_type": "execute_result"
    }
   ],
   "source": [
    "# binarySearch question\n",
    "\n",
    "def binarySearch(arr,num):\n",
    "    left = 0\n",
    "    right = len(arr)-1\n",
    "\n",
    "    while (left <= right):\n",
    "        mid  = int(left + (right-left)/2)\n",
    "        if arr[mid] == num:\n",
    "            return mid\n",
    "        elif arr[mid] > num:\n",
    "            right =  mid-1\n",
    "        else:\n",
    "            left =  mid+1\n",
    "    return -1\n",
    "\n",
    "arr = [1,2,3,4,5,6]\n",
    "num = 5\n",
    "binarySearch(arr,num)"
   ]
  },
  {
   "cell_type": "code",
   "execution_count": 29,
   "id": "ae4d7374",
   "metadata": {},
   "outputs": [
    {
     "data": {
      "text/plain": [
       "6"
      ]
     },
     "execution_count": 29,
     "metadata": {},
     "output_type": "execute_result"
    }
   ],
   "source": [
    "def binary_rec(arr,sI,eI,data):\n",
    "\n",
    "    # Base Condition \n",
    "    if eI < sI:\n",
    "        return -1\n",
    "    \n",
    "    mid = int(sI+(eI-sI)/2)\n",
    "    \n",
    "    # Recursion call\n",
    "\n",
    "    if arr[mid] == data:\n",
    "        return mid \n",
    "\n",
    "    elif arr[mid]> data:\n",
    "        eI = mid-1\n",
    "        return binary_rec(arr,sI,eI,data)\n",
    "    else:\n",
    "        sI = mid+1\n",
    "        return binary_rec(arr,sI,eI,data)\n",
    "\n",
    "arr = [2,4,7,8,10,15,33,44]\n",
    "sI = 0\n",
    "eI = len(arr)-1\n",
    "data = 33\n",
    "binary_rec(arr,sI,eI,data)"
   ]
  },
  {
   "cell_type": "code",
   "execution_count": 30,
   "id": "6e3a02be",
   "metadata": {},
   "outputs": [
    {
     "data": {
      "text/plain": [
       "-1"
      ]
     },
     "execution_count": 30,
     "metadata": {},
     "output_type": "execute_result"
    }
   ],
   "source": [
    "binary_rec(arr,sI,eI,5)"
   ]
  },
  {
   "cell_type": "code",
   "execution_count": 31,
   "id": "698fa35c",
   "metadata": {},
   "outputs": [
    {
     "name": "stdout",
     "output_type": "stream",
     "text": [
      "[5, 4, 3, 2, 1]\n"
     ]
    }
   ],
   "source": [
    "def reverse_rec(arr):\n",
    "\n",
    "    # base Condition\n",
    "    if arr == []:\n",
    "        return []\n",
    "    return reverse_rec(arr[1:]) + [arr[0]]\n",
    "\n",
    "print(reverse_rec([1,2,3,4,5]))"
   ]
  },
  {
   "cell_type": "code",
   "execution_count": 32,
   "id": "de568bfc",
   "metadata": {},
   "outputs": [
    {
     "name": "stdout",
     "output_type": "stream",
     "text": [
      "[3, 2, 1, 5, 4]\n"
     ]
    }
   ],
   "source": [
    "def reverseliner(arr):\n",
    "    left = 0\n",
    "    right = len(arr)-1\n",
    "\n",
    "    while(left < right):\n",
    "        # swap the element \n",
    "        arr[left] , arr[right] = arr[right], arr[left]\n",
    "        left+=1\n",
    "        right-=1\n",
    "\n",
    "arr = [4,5,1,2,3]\n",
    "reverseliner(arr)\n",
    "print(arr)"
   ]
  },
  {
   "cell_type": "code",
   "execution_count": 33,
   "id": "6bfa1777",
   "metadata": {},
   "outputs": [
    {
     "name": "stdout",
     "output_type": "stream",
     "text": [
      "[90, 76, 56, 4, 3, 2, 1]\n"
     ]
    }
   ],
   "source": [
    "def reverse_rec(Arr,si,ei):\n",
    "\n",
    "# Base condition\n",
    "\n",
    "    if si>= ei:\n",
    "        return\n",
    "    \n",
    "    arr[si],arr[ei] = arr[ei] , arr[si]\n",
    "    \n",
    "# Recursion call\n",
    "    reverse_rec(Arr,si+1 , ei-1)\n",
    "\n",
    "arr = [1,2,3,4,56,76,90]\n",
    "reverse_rec(arr , 0 , len(arr)-1)\n",
    "print(arr)"
   ]
  },
  {
   "cell_type": "code",
   "execution_count": 34,
   "id": "0f53e2f9",
   "metadata": {},
   "outputs": [
    {
     "name": "stdout",
     "output_type": "stream",
     "text": [
      "It's Palindrome\n"
     ]
    }
   ],
   "source": [
    "def  Palindrome(Arr,si,ei):\n",
    "\n",
    "# Base condition\n",
    "\n",
    "    if si>= ei:\n",
    "        print(\"It's Palindrome\")\n",
    "        return\n",
    "\n",
    "    if Arr[si] != Arr[ei]:\n",
    "        print(\"It's not  Palindrome\")\n",
    "        return\n",
    "    \n",
    "    Palindrome(arr, si + 1, ei - 1)\n",
    "\n",
    "arr = [1]\n",
    "Palindrome(arr , 0 , len(arr)-1)\n"
   ]
  },
  {
   "cell_type": "code",
   "execution_count": 35,
   "id": "1c71e824",
   "metadata": {},
   "outputs": [
    {
     "name": "stdout",
     "output_type": "stream",
     "text": [
      "[9, 5, 7, 8, 1, 10]\n",
      "[3, 4, 1, 2]\n",
      "[4, 5, 5, 3]\n",
      "[3, 4, 5, 1, 2]\n"
     ]
    }
   ],
   "source": [
    "def left_right_rotate (arr,k):\n",
    "    k = k%len(arr)\n",
    "\n",
    "    for i in range(k): # Num of times the rotation has to take place\n",
    "        prev = arr[0]\n",
    "        curr = arr[0]\n",
    "        arr[0] = arr[len(arr)-1]\n",
    "        j = 1\n",
    "        while (j<len(arr)):\n",
    "            curr = arr[j]\n",
    "            arr[j] = prev\n",
    "            prev = curr\n",
    "            j +=1    \n",
    "\n",
    "# Driver code \n",
    "arr1 = [7 ,8,1,10,9,5]\n",
    "arr2 = [1,2,3,4]\n",
    "arr3 = [3,4,5,5]\n",
    "arr4 = [1,2,3,4,5]\n",
    "\n",
    "left_right_rotate (arr1,2)\n",
    "print(arr1)\n",
    "left_right_rotate (arr2,6)\n",
    "print(arr2)\n",
    "left_right_rotate (arr3,3)\n",
    "print(arr3)\n",
    "left_right_rotate (arr4,3)\n",
    "print(arr4)"
   ]
  },
  {
   "cell_type": "code",
   "execution_count": 37,
   "id": "f1ca0dc0",
   "metadata": {},
   "outputs": [
    {
     "name": "stdout",
     "output_type": "stream",
     "text": [
      "[4, 5, 1, 2, 3]\n"
     ]
    }
   ],
   "source": [
    "def rotate_k_time(arr,k):\n",
    "    k = k%len(arr)\n",
    "\n",
    "    # reverse the entire array\n",
    "    reverse_rec(arr,0,len(arr)-1)\n",
    "\n",
    "    # reverse the first k element\n",
    "    reverse_rec(arr,0,k-1)\n",
    "\n",
    "    # reverse the last n-k element \n",
    "    reverse_rec(arr,k,len(arr)-1)\n",
    "\n",
    "arr = [1,2,3,4,5]\n",
    "rotate_k_time(arr,2)\n",
    "print(arr)\n",
    "      "
   ]
  },
  {
   "cell_type": "code",
   "execution_count": 2,
   "id": "57b82bc9",
   "metadata": {},
   "outputs": [
    {
     "name": "stdout",
     "output_type": "stream",
     "text": [
      "3\n"
     ]
    }
   ],
   "source": [
    "def countRotations(arr):\n",
    "    min = arr[0]\n",
    "    min_index = 0\n",
    "\n",
    "    for i in range(1,len(arr)):\n",
    "        if min>arr[i]:\n",
    "            min = arr[i]\n",
    "            min_index = i\n",
    "    return min_index\n",
    "\n",
    "print(countRotations([15,34,55,2,4,5,10]))"
   ]
  },
  {
   "cell_type": "code",
   "execution_count": null,
   "id": "b312c8de",
   "metadata": {},
   "outputs": [],
   "source": [
    "# Find the Rotation count in Rotated Sorted array Input : arr = [15,18,2,3,6,12] \n",
    "# Output:2 Explanation : Initial arry must be [2,3,6,12,15,18] we get the given array after rotating the initial array twice\n",
    "# Solve the problam with linear search approach\n",
    "# Tier 2 companies"
   ]
  },
  {
   "cell_type": "code",
   "execution_count": null,
   "id": "33bb4c2c",
   "metadata": {},
   "outputs": [
    {
     "name": "stdout",
     "output_type": "stream",
     "text": [
      "Minimum element is: 2 at index 2\n"
     ]
    }
   ],
   "source": [
    "# Solve the problam with binary search approach\n",
    "# FAANG Company ask\n",
    "\n",
    "def binarySecrch_rotate(arr , left , right ):\n",
    "\n",
    "    if left > right :\n",
    "        return -1\n",
    "\n",
    "    mid = left + (right - left) // 2\n",
    "\n",
    "    if mid > 0 and mid< len(arr)-1 and  arr[mid] <arr[mid+1] and arr[mid] < arr[mid-1]:\n",
    "        return mid\n",
    "    \n",
    "    elif arr[mid] >= arr[right]:\n",
    "        return binarySecrch_rotate(arr,mid+1,right)\n",
    "    else:\n",
    "        return binarySecrch_rotate(arr,left,mid-1)\n",
    "\n",
    "arr = [15,16,2,3,5,12,13,14]\n",
    "index = (binarySecrch_rotate(arr,0,len(arr)-1))\n",
    "print(\"Minimum element is:\", arr[index], \"at index\", index)"
   ]
  },
  {
   "cell_type": "code",
   "execution_count": 5,
   "id": "e193f541",
   "metadata": {},
   "outputs": [
    {
     "name": "stdout",
     "output_type": "stream",
     "text": [
      "Minimum element is: 2 at index 3\n"
     ]
    }
   ],
   "source": [
    "def binarySecrch_rotate(arr, left, right):\n",
    "    if left > right:\n",
    "        return -1  # not found\n",
    "\n",
    "    mid = left + (right - left) // 2\n",
    "\n",
    "    # Minimum element condition\n",
    "    if mid > 0 and mid < len(arr) - 1 and arr[mid] < arr[mid + 1] and arr[mid] < arr[mid - 1]:\n",
    "        return mid\n",
    "    elif arr[mid] >= arr[right]:  # Minimum is in right half\n",
    "        return binarySecrch_rotate(arr, mid + 1, right)\n",
    "    else:  # Minimum is in left half\n",
    "        return binarySecrch_rotate(arr, left, mid - 1)\n",
    "\n",
    "arr = [15,34,55,2,4,5,10]\n",
    "index = binarySecrch_rotate(arr, 0, len(arr) - 1)\n",
    "print(\"Minimum element is:\", arr[index], \"at index\", index)\n"
   ]
  },
  {
   "cell_type": "code",
   "execution_count": 12,
   "id": "1e136ced",
   "metadata": {},
   "outputs": [
    {
     "name": "stdout",
     "output_type": "stream",
     "text": [
      "1th smallest: 0 | 8th largest: 8\n",
      "2th smallest: 1 | 7th largest: 6\n",
      "3th smallest: 2 | 6th largest: 5\n",
      "4th smallest: 3 | 5th largest: 4\n",
      "My short arr : [0, 1, 2, 3, 4, 5, 6, 8]\n"
     ]
    }
   ],
   "source": [
    "def first_small_large(arr):\n",
    "    for i in range(len (arr) -1,0,-1):\n",
    "        isSorted = True\n",
    "        for j in range(i):\n",
    "            if arr[j] > arr[j+1]:\n",
    "                isSorted = False\n",
    "                arr[j],arr[j+1] = arr[j+1],arr[j]\n",
    "\n",
    "        if isSorted:\n",
    "            break\n",
    "    \n",
    "    \n",
    "\n",
    "def print_process(si,ei):\n",
    "    first_small_large(arr) \n",
    "    if si < ei:\n",
    "        print(f\"{si+1}th smallest: {arr[si]} | {ei+1}th largest: {arr[ei]}\")\n",
    "        print_process(si+1,ei-1)\n",
    "    else :\n",
    "        if si == ei:\n",
    "            print(f\"This Number are mid : {arr[si]}\")\n",
    "\n",
    "arr = [3,5,1,2,8,6,4,0]\n",
    "\n",
    "print_process(0,len(arr)-1)\n",
    "print(f\"My short arr : {arr}\")"
   ]
  },
  {
   "cell_type": "code",
   "execution_count": null,
   "id": "a96b01ca",
   "metadata": {},
   "outputs": [
    {
     "name": "stdout",
     "output_type": "stream",
     "text": [
      "90 1 49 2 23 5 10\n"
     ]
    }
   ],
   "source": [
    "# Sort an array in wave form given an unsorted array of integers sort the array into a wave like array . \n",
    "\n",
    "# Time complexcity = O(n^2)\n",
    "def sort_selection(arr):\n",
    "    for i in range(len(arr)):\n",
    "        min = i \n",
    "        for j in range(i+1 , len(arr)):\n",
    "            if arr[j]<arr[min]:\n",
    "                min = j\n",
    "        arr[i],arr[min]=arr[min],arr[i]\n",
    "\n",
    "def wave_sort(arr):\n",
    "    sort_selection(arr)\n",
    "    left = 0\n",
    "    right = len(arr)-1\n",
    "    while(left<=right):\n",
    "        if left == right:\n",
    "            print(arr[left])\n",
    "        else :\n",
    "            print(arr[right],end=\" \")\n",
    "            print(arr[left],end=\" \")\n",
    "        left+=1\n",
    "        right-=1\n",
    "arr = [10,90,49,2,1,5,23]\n",
    "wave_sort(arr)"
   ]
  },
  {
   "cell_type": "code",
   "execution_count": 3,
   "id": "369afac3",
   "metadata": {},
   "outputs": [
    {
     "name": "stdout",
     "output_type": "stream",
     "text": [
      "Wave form (O(n) method): [10, 90, 2, 49, 1, 5, 3, 23]\n"
     ]
    }
   ],
   "source": [
    "def sortInWave(arr):\n",
    "\n",
    "    for i in range(0,len(arr)-1, 2):\n",
    "\n",
    "        # Comparing with left element\n",
    "\n",
    "        if (i>0 and arr[i] > arr[i-1]):\n",
    "            arr[i],arr[i-1] = arr[i-1],arr[i]\n",
    "\n",
    "        # Compare with the right element \n",
    "\n",
    "        if i<len(arr)-1 and arr[i] > arr[i+1]:\n",
    "            arr[i],arr[i+1] = arr[i+1],arr[i]\n",
    "\n",
    "        \n",
    "arr = [10,90,49,2,3,1,5,23]\n",
    "sortInWave(arr)\n",
    "print(\"Wave form (O(n) method):\", arr)"
   ]
  },
  {
   "cell_type": "code",
   "execution_count": 7,
   "id": "9355feaf",
   "metadata": {},
   "outputs": [
    {
     "name": "stdout",
     "output_type": "stream",
     "text": [
      "[2, 3, 4, 6, 9]\n"
     ]
    }
   ],
   "source": [
    "# 4. Merge an array of size n into another array of size m+n in sorted order .\n",
    "\n",
    "def mergeArrays(arr1,m,  arr2,n):\n",
    "    # size of arr1 is m+n and it's first m elements are havin\n",
    "\n",
    "    i = m-1\n",
    "    j = n-1\n",
    "    k = m+n-1\n",
    "\n",
    "    while (i>=0 and j>=0):\n",
    "        if arr1[i] > arr2[j]:\n",
    "            arr1[k] = arr1[i]\n",
    "            i-=1\n",
    "        else:\n",
    "            arr1[k] = arr2[j]\n",
    "            j-=1\n",
    "        k-=1\n",
    "\n",
    "    while (i>=0):\n",
    "        arr1[k] = arr1[i]\n",
    "        k-=1\n",
    "        i-=1\n",
    "    \n",
    "    while (j>=0):\n",
    "        arr1[k]=arr2[j]\n",
    "        k-=1\n",
    "        j-=1\n",
    "\n",
    "\n",
    "# Driver code \n",
    "arr1 = [3,6,9,-1,-1]\n",
    "arr2 = [2,4]\n",
    "\n",
    "mergeArrays(arr1,3,  arr2,2)\n",
    "print(arr1)"
   ]
  },
  {
   "cell_type": "code",
   "execution_count": null,
   "id": "7b422f65",
   "metadata": {},
   "outputs": [],
   "source": [
    "# 5. sort an array containing two types of elements we are given an array of 0s and 1s in random order. segregate 0s on left side and 1s on right side of the array . Traverse array only once. Examples:input:arr[] = [0,1,0,1,0,0,1,1,1,0] , Output: arr[] = [0,0,0,0,0,1,1,1,1,1]\n"
   ]
  }
 ],
 "metadata": {
  "kernelspec": {
   "display_name": "Python 3",
   "language": "python",
   "name": "python3"
  },
  "language_info": {
   "codemirror_mode": {
    "name": "ipython",
    "version": 3
   },
   "file_extension": ".py",
   "mimetype": "text/x-python",
   "name": "python",
   "nbconvert_exporter": "python",
   "pygments_lexer": "ipython3",
   "version": "3.13.2"
  }
 },
 "nbformat": 4,
 "nbformat_minor": 5
}
