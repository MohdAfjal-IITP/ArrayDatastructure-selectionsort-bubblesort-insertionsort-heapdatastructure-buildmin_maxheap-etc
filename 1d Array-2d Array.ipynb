{
 "cells": [
  {
   "cell_type": "markdown",
   "id": "06485b1a",
   "metadata": {},
   "source": [
    "Array"
   ]
  },
  {
   "cell_type": "code",
   "execution_count": 1,
   "id": "bcd70bf2",
   "metadata": {},
   "outputs": [
    {
     "name": "stdout",
     "output_type": "stream",
     "text": [
      "150\n"
     ]
    }
   ],
   "source": [
    "arr = [2,7,9,12,24,27,32,37]\n",
    "sum_num = 0\n",
    "for num in arr:\n",
    "    sum_num+=num\n",
    "print(sum_num)"
   ]
  },
  {
   "cell_type": "code",
   "execution_count": null,
   "id": "42defb1f",
   "metadata": {},
   "outputs": [
    {
     "name": "stdout",
     "output_type": "stream",
     "text": [
      "282\n"
     ]
    }
   ],
   "source": [
    "# Method definition of the sum function \n",
    "# Time complexity: O(n)\n",
    "# space complexity: O(1)\n",
    "\n",
    "def summation(arr):\n",
    "    sum_num = 0\n",
    "    for num in arr:\n",
    "        sum_num+=num\n",
    "    return(sum_num) \n",
    "\n",
    "# Deiver code\n",
    "arr = [23,34,64,12,25,56,68]\n",
    "result = summation(arr)\n",
    "print(result)"
   ]
  },
  {
   "cell_type": "code",
   "execution_count": 3,
   "id": "5743fb2c",
   "metadata": {},
   "outputs": [],
   "source": [
    "arr = [23,34,56,78,89]\n",
    "arr.insert(1,30)"
   ]
  },
  {
   "cell_type": "code",
   "execution_count": 4,
   "id": "b40321fe",
   "metadata": {},
   "outputs": [
    {
     "data": {
      "text/plain": [
       "[23, 30, 34, 56, 78, 89]"
      ]
     },
     "execution_count": 4,
     "metadata": {},
     "output_type": "execute_result"
    }
   ],
   "source": [
    "arr"
   ]
  },
  {
   "cell_type": "code",
   "execution_count": 5,
   "id": "ee9aab18",
   "metadata": {},
   "outputs": [],
   "source": [
    "arr.remove(78)"
   ]
  },
  {
   "cell_type": "code",
   "execution_count": 6,
   "id": "57ef170d",
   "metadata": {},
   "outputs": [
    {
     "data": {
      "text/plain": [
       "[23, 30, 34, 56, 89]"
      ]
     },
     "execution_count": 6,
     "metadata": {},
     "output_type": "execute_result"
    }
   ],
   "source": [
    "arr"
   ]
  },
  {
   "cell_type": "markdown",
   "id": "4f560088",
   "metadata": {},
   "source": [
    "Serching Algorithms"
   ]
  },
  {
   "cell_type": "code",
   "execution_count": null,
   "id": "4cfc9ea1",
   "metadata": {},
   "outputs": [],
   "source": [
    "# Serching Algorithms\n",
    "arr = [12,14,16,18,11,22,26,29]\n",
    "target = 30\n",
    "## print-1 [it indicates that the target values is not available in the array]\n"
   ]
  },
  {
   "cell_type": "code",
   "execution_count": null,
   "id": "03d2ce51",
   "metadata": {},
   "outputs": [
    {
     "name": "stdout",
     "output_type": "stream",
     "text": [
      "1\n"
     ]
    }
   ],
   "source": [
    "# Serching Algorithms\n",
    "# Time complexity: O(n)\n",
    "# space complexity: O(1)\n",
    "\n",
    "def linearSearch(arr,target):\n",
    "    n = len(arr)\n",
    "    for i in range(n):\n",
    "        if arr[i] == target:\n",
    "            return i\n",
    "    # in case element is not available in the array\n",
    "    return -1\n",
    "\n",
    " # Driver code       \n",
    "arr = [12,14,16,18,11,22,26,29]\n",
    "target = 14\n",
    "result = linearSearch(arr,target)\n",
    "print(result)"
   ]
  },
  {
   "cell_type": "code",
   "execution_count": null,
   "id": "88a28413",
   "metadata": {},
   "outputs": [
    {
     "name": "stdout",
     "output_type": "stream",
     "text": [
      "This is even_arrar : [2, 18, 22] and This is odd_arrar : [5, 11, 13, 15]\n"
     ]
    }
   ],
   "source": [
    "# arr = [2,5,11,13,15,18,22]\n",
    "## even and odd array contaning even and odd num\n",
    "# Time complexity: O(n)\n",
    "# space complexity: O(n)\n",
    "\n",
    "\n",
    "def evenAndodd(arr):\n",
    "    # Creating an external data structure[list[to store the even and odd values]]\n",
    "    even_arr = []\n",
    "    odd_arr = []\n",
    "    for digit in arr:\n",
    "        if digit % 2 == 0:\n",
    "            even_arr.append(digit)\n",
    "        else:\n",
    "            odd_arr.append(digit)\n",
    "    return f\"This is even_arrar : {even_arr} and This is odd_arrar : {odd_arr}\"\n",
    "arr = [2,5,11,13,15,18,22]\n",
    "result = evenAndodd(arr)\n",
    "print(result)\n"
   ]
  },
  {
   "cell_type": "code",
   "execution_count": null,
   "id": "0995bc58",
   "metadata": {},
   "outputs": [
    {
     "name": "stdout",
     "output_type": "stream",
     "text": [
      "primary diagonal sum :  32\n",
      "secoundry diagonal sum :  31\n"
     ]
    }
   ],
   "source": [
    "# function defintion\n",
    "# Time complexity: O(n^2)\n",
    "# space complexity: O(1)\n",
    "\n",
    "def printDiagonalsum(arr):\n",
    "    PrimaryDiagonalSum = 0\n",
    "    secondaryDiagonalsum = 0\n",
    "    n = len(arr)\n",
    "    for i in range(n):\n",
    "        for j in range(n):\n",
    "\n",
    "            # Condition to get the elements of primary diagonal\n",
    "            if i == j :\n",
    "                PrimaryDiagonalSum+=arr[i][j]\n",
    "                \n",
    "             # Condition to get the elements of secoundry diagonal\n",
    "            if i+j == n-1:\n",
    "                secondaryDiagonalsum+=arr[i][j]\n",
    "    print(\"primary diagonal sum : \" , PrimaryDiagonalSum)\n",
    "    print(\"secoundry diagonal sum : \" , secondaryDiagonalsum)\n",
    "\n",
    "# Driver code\n",
    "arr = [[2,4,6],[8,11,13],[14,17,19]]\n",
    "#function colling\n",
    "printDiagonalsum(arr)"
   ]
  },
  {
   "cell_type": "code",
   "execution_count": null,
   "id": "14c47914",
   "metadata": {},
   "outputs": [],
   "source": [
    "# Next session - binary search , Sorting Algorithms\n",
    "# Next session - Recursion (Can't miss this session)\n"
   ]
  },
  {
   "cell_type": "markdown",
   "id": "cfaa5ecd",
   "metadata": {},
   "source": [
    "Recursion in Arrays"
   ]
  },
  {
   "cell_type": "code",
   "execution_count": 5,
   "id": "46a4c76a",
   "metadata": {},
   "outputs": [
    {
     "name": "stdout",
     "output_type": "stream",
     "text": [
      "40320\n"
     ]
    }
   ],
   "source": [
    "# Factorial of a given number \n",
    "# Method definition via the recursion\n",
    "\n",
    "def factorial(n):\n",
    "    ## 1. Base case condition\n",
    "    if n<=1:\n",
    "        return 1\n",
    "    \n",
    "    ## 2. Recursive function call\n",
    "    else:\n",
    "        return n*factorial(n-1)\n",
    "# Driver code\n",
    "num = int(input(\"Enter a number : \"))\n",
    "result = factorial(num)\n",
    "print (result)"
   ]
  },
  {
   "cell_type": "code",
   "execution_count": null,
   "id": "e0b7cc2a",
   "metadata": {},
   "outputs": [
    {
     "name": "stdout",
     "output_type": "stream",
     "text": [
      "False\n"
     ]
    }
   ],
   "source": [
    "# Given an array check if it contains any duplicates or not\n",
    "# arr = [1,2,4,2,5,9]\n",
    "\n",
    "def duplicates_num(arr):\n",
    "    \n",
    "    seen = set()\n",
    "    for i in arr:\n",
    "        if i in seen:\n",
    "            return f\"True this number --> {i} are duplicates\"\n",
    "        seen.add(i)\n",
    "    return 'False'\n",
    "# Driver code\n",
    "arr = [1,2,4,2,5,9]\n",
    "result = duplicates_num(arr)\n",
    "print(result)"
   ]
  },
  {
   "cell_type": "code",
   "execution_count": 20,
   "id": "211b8dc1",
   "metadata": {},
   "outputs": [
    {
     "data": {
      "text/plain": [
       "True"
      ]
     },
     "execution_count": 20,
     "metadata": {},
     "output_type": "execute_result"
    }
   ],
   "source": [
    "arr = [1,2,4,5,9,9]\n",
    "\n",
    "def Solution(arr):\n",
    "    x = (len(arr) != len(set(arr)))\n",
    "    return x\n",
    "Solution(arr)"
   ]
  },
  {
   "cell_type": "code",
   "execution_count": null,
   "id": "df4aa874",
   "metadata": {},
   "outputs": [],
   "source": [
    "# Given an array and an integer k , rotate the array to the right by k steps.\n",
    "# arr = [1,2,3,4,5,6,7] k = 3\n",
    "# output = [5,6,7,1,2,3,4]\n",
    "\n"
   ]
  },
  {
   "cell_type": "code",
   "execution_count": null,
   "id": "28ee0375",
   "metadata": {},
   "outputs": [
    {
     "name": "stdout",
     "output_type": "stream",
     "text": [
      "[12, 9, 7, 5, 4, 2]\n"
     ]
    }
   ],
   "source": [
    "# Reverse the given array in-place , means without using any extra data structuer.\n",
    "# arr = [2,4,5,7,9,12]\n",
    "# output = [12,9,7,5,4,2]\n",
    "\n",
    "\n",
    "arr = [2,4,5,7,9,12]\n",
    "\n",
    "start = 0\n",
    "end = len(arr)-1\n",
    "\n",
    "while end > start:\n",
    "\n",
    "    arr[start], arr[end] = arr[end],arr[start]\n",
    "    start+=1\n",
    "    end-=1\n",
    "\n",
    "print(arr)"
   ]
  },
  {
   "cell_type": "code",
   "execution_count": 28,
   "id": "cc402e8c",
   "metadata": {},
   "outputs": [
    {
     "name": "stdout",
     "output_type": "stream",
     "text": [
      "[12, 9, 7, 5, 4, 2]\n"
     ]
    }
   ],
   "source": [
    "arr = [2,4,5,7,9,12]\n",
    "arr.reverse()\n",
    "print(arr)"
   ]
  },
  {
   "cell_type": "code",
   "execution_count": 30,
   "id": "97cd03e0",
   "metadata": {},
   "outputs": [
    {
     "data": {
      "text/plain": [
       "[12, 9, 7, 5, 4, 2]"
      ]
     },
     "execution_count": 30,
     "metadata": {},
     "output_type": "execute_result"
    }
   ],
   "source": [
    "arr = [2,4,5,7,9,12]\n",
    "def Reverse_arr(arr):\n",
    "    rev = arr[::-1]\n",
    "    return rev\n",
    "Reverse_arr(arr)"
   ]
  },
  {
   "cell_type": "code",
   "execution_count": null,
   "id": "f8ca9e63",
   "metadata": {},
   "outputs": [
    {
     "name": "stdout",
     "output_type": "stream",
     "text": [
      "60\n"
     ]
    }
   ],
   "source": [
    "# Given an array of integers find the maximum element in an array\n",
    "# arr = [10,20,5,8,15]\n",
    "# output = 20\n",
    "\n",
    "from functools import reduce\n",
    "arr = [10,20,5,8,15,50,60]\n",
    "x = reduce(lambda a,b: a if a>b else b , arr)\n",
    "print(x)\n",
    "\n"
   ]
  },
  {
   "cell_type": "code",
   "execution_count": 37,
   "id": "7b050453",
   "metadata": {},
   "outputs": [
    {
     "name": "stdout",
     "output_type": "stream",
     "text": [
      "20\n"
     ]
    }
   ],
   "source": [
    "arr = [10,20,5,8,15]\n",
    "print(max(arr))"
   ]
  },
  {
   "cell_type": "code",
   "execution_count": 50,
   "id": "6740eed1",
   "metadata": {},
   "outputs": [
    {
     "data": {
      "text/plain": [
       "30"
      ]
     },
     "execution_count": 50,
     "metadata": {},
     "output_type": "execute_result"
    }
   ],
   "source": [
    "arr = [10,20,5,8,15,30]\n",
    "def max_num(arr):\n",
    "    Maximum = arr[0]\n",
    "    for i in arr:\n",
    "        if  i > Maximum :\n",
    "            Maximum = i\n",
    "    return Maximum\n",
    "max_num(arr)\n"
   ]
  },
  {
   "cell_type": "code",
   "execution_count": 52,
   "id": "4d236cc9",
   "metadata": {},
   "outputs": [
    {
     "name": "stdout",
     "output_type": "stream",
     "text": [
      "[1, 2, 3, 4, 5]\n"
     ]
    }
   ],
   "source": [
    "# Given a sorted array , remove the duplicate element without using any extra data structure.\n",
    "# arr = [1,1,2,2,2,3,3,4,4,4,5,5]\n",
    "# output = [1,2,3,4,5]\n",
    "\n",
    "arr = [1,1,2,2,2,3,3,4,4,4,5,5]\n",
    "print(list(set(arr)))"
   ]
  },
  {
   "cell_type": "code",
   "execution_count": 53,
   "id": "dd163ad8",
   "metadata": {},
   "outputs": [
    {
     "name": "stdout",
     "output_type": "stream",
     "text": [
      "[1, 2, 3, 4, 5]\n"
     ]
    }
   ],
   "source": [
    "arr = [1, 1, 2, 2, 2, 3, 3, 4, 4, 4, 5, 5]\n",
    "\n",
    "def remove_duplicates(arr):\n",
    "    index = 1\n",
    "    for i in range(1, len(arr)):\n",
    "        if arr[i] != arr[i - 1]:\n",
    "            arr[index] = arr[i]\n",
    "            index += 1\n",
    "    return arr[:index]\n",
    "\n",
    "print(remove_duplicates(arr))  # Output: [1, 2, 3, 4, 5]\n"
   ]
  },
  {
   "cell_type": "code",
   "execution_count": 1,
   "id": "cc90cb0e",
   "metadata": {},
   "outputs": [
    {
     "name": "stdout",
     "output_type": "stream",
     "text": [
      "10\n"
     ]
    }
   ],
   "source": [
    "# sum of digit\n",
    "\n",
    "num = int(input(\"Enter a number : \"))\n",
    "sum_num = 0\n",
    "while num > 0:\n",
    "    sum_num += num%10\n",
    "    num = num//10\n",
    "\n",
    "print(sum_num)"
   ]
  },
  {
   "cell_type": "code",
   "execution_count": null,
   "id": "3071333e",
   "metadata": {},
   "outputs": [
    {
     "data": {
      "text/plain": [
       "10"
      ]
     },
     "execution_count": 3,
     "metadata": {},
     "output_type": "execute_result"
    }
   ],
   "source": [
    "# Time complexity: O(n)\n",
    "# space complexity: O(n)  n =  the number of digit\n",
    "def sum_of_digit(n):\n",
    "    ## base case condition\n",
    "    if n < 10:\n",
    "        return n \n",
    "    else :\n",
    "        # recursive function call\n",
    "        return n%10 + sum_of_digit(n // 10)\n",
    "    \n",
    "sum_of_digit(1234)"
   ]
  },
  {
   "cell_type": "code",
   "execution_count": null,
   "id": "61066c12",
   "metadata": {},
   "outputs": [
    {
     "name": "stdout",
     "output_type": "stream",
     "text": [
      "65536\n"
     ]
    }
   ],
   "source": [
    "# Power of a given number \n",
    "# Time complexity: O(n)\n",
    "# space complexity: O(n)\n",
    "\n",
    "def powerfind(a,n):\n",
    "    if n == 0:\n",
    "        return 1\n",
    "    else:\n",
    "        return a*powerfind(a,n-1)\n",
    "    \n",
    "# driver code \n",
    "a = 2\n",
    "n = 16\n",
    "result = powerfind(a,n)\n",
    "print(result)"
   ]
  },
  {
   "cell_type": "code",
   "execution_count": null,
   "id": "32c2053b",
   "metadata": {},
   "outputs": [
    {
     "name": "stdout",
     "output_type": "stream",
     "text": [
      "524288\n"
     ]
    }
   ],
   "source": [
    "# Divid and Conquer\n",
    "# Time complexity: O(log2^n)\n",
    "# space complexity: O(log2^n)\n",
    "\n",
    "def powerFind(a,n):\n",
    "    # base case condition\n",
    "    if n == 0:\n",
    "        return 1\n",
    "    if n == 1:\n",
    "        return a\n",
    "    else:\n",
    "        #recursive function calls\n",
    "        \n",
    "        mid = n//2\n",
    "        result = powerFind(a,mid)\n",
    "        finalResult = result*result\n",
    "\n",
    "        # checking whether the value of n is even or odd\n",
    "\n",
    "        if n%2 == 0:\n",
    "            return finalResult\n",
    "        else:\n",
    "            return a*finalResult\n",
    "        \n",
    "# driver code\n",
    "a = 2\n",
    "n = 19\n",
    "result = powerFind(a,n)\n",
    "print(result)\n"
   ]
  },
  {
   "cell_type": "code",
   "execution_count": null,
   "id": "7e2a04ca",
   "metadata": {},
   "outputs": [],
   "source": []
  }
 ],
 "metadata": {
  "kernelspec": {
   "display_name": "Python 3",
   "language": "python",
   "name": "python3"
  },
  "language_info": {
   "codemirror_mode": {
    "name": "ipython",
    "version": 3
   },
   "file_extension": ".py",
   "mimetype": "text/x-python",
   "name": "python",
   "nbconvert_exporter": "python",
   "pygments_lexer": "ipython3",
   "version": "3.13.2"
  }
 },
 "nbformat": 4,
 "nbformat_minor": 5
}
