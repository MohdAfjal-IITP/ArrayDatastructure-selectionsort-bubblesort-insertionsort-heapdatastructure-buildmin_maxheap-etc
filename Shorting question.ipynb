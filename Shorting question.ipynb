{
 "cells": [
  {
   "cell_type": "code",
   "execution_count": 11,
   "id": "65abad3d",
   "metadata": {},
   "outputs": [
    {
     "name": "stdout",
     "output_type": "stream",
     "text": [
      "Pass 1 : [2, 5, 1, 5, 6, 9]\n",
      "Pass 2 : [2, 1, 5, 5, 6, 9]\n",
      "Pass 3 : [1, 2, 5, 5, 6, 9]\n",
      "Pass 4 : [1, 2, 5, 5, 6, 9]\n",
      "Pass 5 : [1, 2, 5, 5, 6, 9]\n",
      "Shorting Compleat :  [1, 2, 5, 5, 6, 9]\n"
     ]
    }
   ],
   "source": [
    "# Q1: Bubble Sort – Basic\n",
    "# 👉 Ek list [5, 2, 9, 1, 5, 6] di gayi hai. Usko Bubble Sort se sort karo\n",
    "\n",
    "def Bubble_sort(Arr):\n",
    "    for i in range(len(Arr)-1 , 0 , -1):\n",
    "        for j in range(i):\n",
    "            if Arr[j]>Arr[j+1]:\n",
    "                Arr[j],Arr[j+1] = Arr[j+1],Arr[j]\n",
    "        print(f\"Pass {len(Arr)-i} : {Arr}\")  # Show intermediate step\n",
    "\n",
    "# Driver Code\n",
    "Arr = [5,2,9,1,5,6]\n",
    "Bubble_sort(Arr)\n",
    "print (\"Shorting Compleat : \",Arr)"
   ]
  },
  {
   "cell_type": "code",
   "execution_count": 11,
   "id": "d001356f",
   "metadata": {},
   "outputs": [
    {
     "name": "stdout",
     "output_type": "stream",
     "text": [
      "Pass 1: [1, 5, 7, 8, 9, 3, 4]\n",
      "Pass 2: [1, 3, 7, 8, 9, 5, 4]\n",
      "Pass 3: [1, 3, 4, 8, 9, 5, 7]\n",
      "Pass 4: [1, 3, 4, 5, 9, 8, 7]\n",
      "Pass 5: [1, 3, 4, 5, 7, 8, 9]\n",
      "Pass 6: [1, 3, 4, 5, 7, 8, 9]\n",
      "Pass 7: [1, 3, 4, 5, 7, 8, 9]\n",
      "Shorting Compleat :  [1, 3, 4, 5, 7, 8, 9]\n"
     ]
    }
   ],
   "source": [
    "'''👉 Selection Sort ka use karke array ka k-th smallest element find karo.\n",
    "Hint: Pehle k smallest element sort karo.\n",
    "'''\n",
    "\n",
    "def Selection_sort(Arr):\n",
    "    for i in range(len(Arr)):\n",
    "        min = i\n",
    "\n",
    "        for j in range(i+1 , len(Arr)):\n",
    "            if Arr[j] < Arr[min]:\n",
    "                min = j\n",
    "        Arr[i],Arr[min] = Arr[min],Arr[i]\n",
    "\n",
    "        print(f\"Pass {i+1}: {Arr}\")\n",
    "\n",
    "\n",
    "# Driver Code\n",
    "Arr = [9,5,7,8,1,3,4]\n",
    "Selection_sort(Arr)\n",
    "print (\"Shorting Compleat : \",Arr)"
   ]
  },
  {
   "cell_type": "code",
   "execution_count": null,
   "id": "936d4138",
   "metadata": {},
   "outputs": [],
   "source": [
    "'''Q2: Bubble Sort – Count Swaps\n",
    "👉 Bubble Sort lagate waqt kitni baar elements swap ho rahe hain, uska count return karo.\n",
    "Example Output:\n",
    "Input: [3, 2, 1]\n",
    "Output: 3 swaps'''"
   ]
  },
  {
   "cell_type": "code",
   "execution_count": null,
   "id": "2fa11fec",
   "metadata": {},
   "outputs": [],
   "source": [
    "'''Q4: Insertion Sort – Reverse Sorted List\n",
    "👉 Insertion sort lagake [9, 8, 7, 6, 5] ko sort karo aur har step pe intermediate list print karo.'''"
   ]
  },
  {
   "cell_type": "code",
   "execution_count": null,
   "id": "9978acd0",
   "metadata": {},
   "outputs": [],
   "source": [
    "'''Q5: Insertion Sort – Already Sorted\n",
    "👉 Insertion sort lagake check karo ki agar list already sorted ho, toh kitne steps lagenge?'''"
   ]
  },
  {
   "cell_type": "code",
   "execution_count": 2,
   "id": "e3f836ef",
   "metadata": {},
   "outputs": [
    {
     "name": "stdout",
     "output_type": "stream",
     "text": [
      "12\n"
     ]
    }
   ],
   "source": [
    "# Ek number ke sab digits ka sum nikaalo.\n",
    "\n",
    "def Sum_digits(num):\n",
    "    if num == 0:\n",
    "        return 0\n",
    "    \n",
    "    return num%10 + Sum_digits(num//10)\n",
    "\n",
    "n = 1434\n",
    "print(Sum_digits(n))"
   ]
  },
  {
   "cell_type": "code",
   "execution_count": 3,
   "id": "0601a5a6",
   "metadata": {},
   "outputs": [
    {
     "name": "stdout",
     "output_type": "stream",
     "text": [
      "lajfA\n"
     ]
    }
   ],
   "source": [
    "# Ek string ko ulta (reverse) karo recursion se.\n",
    "\n",
    "def reverse_str(str):\n",
    "    # Base case \n",
    "    if str == '':\n",
    "        return \"\"\n",
    "    \n",
    "    return reverse_str(str[1:])+str[0]\n",
    "\n",
    "s = \"Afjal\"\n",
    "print(reverse_str(s))"
   ]
  },
  {
   "cell_type": "code",
   "execution_count": 11,
   "id": "ce69f7f8",
   "metadata": {},
   "outputs": [
    {
     "name": "stdout",
     "output_type": "stream",
     "text": [
      "True\n"
     ]
    }
   ],
   "source": [
    "# Check karo kya string palindrome hai (jaise \"madam\").\n",
    "\n",
    "def is_palindrome (str):\n",
    "    str = str.lower()\n",
    "    if len(str) <= 1:\n",
    "        return True\n",
    "    \n",
    "    return str[0] == str[-1] and is_palindrome(str[1:-1])\n",
    "\n",
    "string = 'Madam'\n",
    "print(is_palindrome(string))"
   ]
  },
  {
   "cell_type": "code",
   "execution_count": 25,
   "id": "6b84bcd2",
   "metadata": {},
   "outputs": [
    {
     "name": "stdout",
     "output_type": "stream",
     "text": [
      "ab\n",
      "a\n",
      "b\n",
      "\n"
     ]
    }
   ],
   "source": [
    "# Ek string ke saare subsets print karo (Power set).\n",
    "\n",
    "def Power_set(s , curr = \"\" , index = 0):\n",
    "\n",
    "    if index == len(s):\n",
    "        print(curr)\n",
    "        return\n",
    "\n",
    "\n",
    "    Power_set(s, curr + s[index] , index+1 )\n",
    "    Power_set(s, curr , index+1)\n",
    "\n",
    "    \n",
    "s = 'ab'\n",
    "Power_set(s)\n",
    "    "
   ]
  },
  {
   "cell_type": "code",
   "execution_count": 23,
   "id": "e95cb35c",
   "metadata": {},
   "outputs": [
    {
     "name": "stdout",
     "output_type": "stream",
     "text": [
      "5\n"
     ]
    }
   ],
   "source": [
    "# Count karo kitne tareeke hain ek ladder ke top tak chadhne ke (1 ya 2 steps le sakte ho).\n",
    "\n",
    "def count_way (n):\n",
    "\n",
    "    if n == 0 or n==1:\n",
    "        return 1\n",
    "    \n",
    "    return count_way(n-1) + count_way(n-2)\n",
    "\n",
    "n = 4\n",
    "print(count_way(n))"
   ]
  },
  {
   "cell_type": "code",
   "execution_count": 2,
   "id": "92d12cf4",
   "metadata": {},
   "outputs": [
    {
     "name": "stdout",
     "output_type": "stream",
     "text": [
      "[90, 76, 56, 4, 3, 2, 1]\n"
     ]
    }
   ],
   "source": [
    "def reverse_rec(Arr,si,ei):\n",
    "\n",
    "# Base condition\n",
    "\n",
    "    if si>= ei:\n",
    "        return\n",
    "    \n",
    "    arr[si],arr[ei] = arr[ei] , arr[si]\n",
    "    \n",
    "# Recursion call\n",
    "    reverse_rec(Arr,si+1 , ei-1)\n",
    "\n",
    "arr = [1,2,3,4,56,76,90]\n",
    "reverse_rec(arr , 0 , len(arr)-1)\n",
    "print(arr)"
   ]
  },
  {
   "cell_type": "code",
   "execution_count": 3,
   "id": "e33a8d38",
   "metadata": {},
   "outputs": [
    {
     "name": "stdout",
     "output_type": "stream",
     "text": [
      "[4, 5, 1, 2, 3]\n"
     ]
    }
   ],
   "source": [
    "def rotate_k_time(arr,k):\n",
    "    k = k%len(arr)\n",
    "\n",
    "    # reverse the entire array\n",
    "    reverse_rec(arr,0,len(arr)-1)\n",
    "\n",
    "    # reverse the first k element\n",
    "    reverse_rec(arr,0,k-1)\n",
    "\n",
    "    # reverse the last n-k element \n",
    "    reverse_rec(arr,k,len(arr)-1)\n",
    "\n",
    "arr = [1,2,3,4,5]\n",
    "rotate_k_time(arr,2)\n",
    "print(arr)"
   ]
  },
  {
   "cell_type": "code",
   "execution_count": null,
   "id": "1908b64b",
   "metadata": {},
   "outputs": [],
   "source": [
    "'''🔥 Recursion ke Zabardast Questions (Hinglish)\n",
    "Ek number ke sab digits ka sum nikaalo.\n",
    "\n",
    "Ek string ko ulta (reverse) karo recursion se.\n",
    "\n",
    "Check karo kya string palindrome hai (jaise \"madam\").\n",
    "\n",
    "Ek string ke saare subsets print karo (Power set).\n",
    "\n",
    "Count karo kitne tareeke hain ek ladder ke top tak chadhne ke (1 ya 2 steps le sakte ho).\n",
    "\n",
    "2 numbers ka GCD nikaalo recursion se.\n",
    "\n",
    "Ek number ko binary mein convert karo (bin() use kiye bina).\n",
    "\n",
    "Ek array ko recursively sort karo (selection ya insertion style).\n",
    "\n",
    "Ek number ka digital root nikaalo (jaise 987 → 9+8+7=24 → 2+4=6).\n",
    "\n",
    "Ek string ke saare permutations print karo.\n",
    "\n",
    "Palindrome partitioning karo (string ke parts aise karo ki sab palindrome ho).\n",
    "\n",
    "Tower of Hanoi problem solve karo.\n",
    "\n",
    "Rat in a maze problem (kaise maze se bahar nikle path find karo).\n",
    "\n",
    "Ek list ke saare duplicates hatao recursion se.\n",
    "\n",
    "Ek array ke maximum element ko recursion se find karo.\n",
    "\n",
    "Ek list ko recursion se reverse karo (bina loop ke).\n",
    "\n",
    "Subsequence ke sab combinations find karo.\n",
    "\n",
    "Ek nested list ka depth-wise sum nikaalo.\n",
    "\n",
    "Ek number ko words mein convert karo (123 → \"one two three\").\n",
    "\n",
    "Ek string ke unique characters nikaalo (recursively).\n",
    "\n",
    "'''"
   ]
  },
  {
   "cell_type": "code",
   "execution_count": 2,
   "id": "e3318087",
   "metadata": {},
   "outputs": [
    {
     "name": "stdout",
     "output_type": "stream",
     "text": [
      "[0, 1, 2]\n"
     ]
    }
   ],
   "source": [
    "# Ek list me sirf 0s, 1s aur 2s hain — sort karo using Bubble Sort.\n",
    "\n",
    "\n",
    "\n",
    "def bubble_sort (arr):\n",
    "\n",
    "    for i in range(len(arr)-1 , 0 , -1):\n",
    "        for j in range(i):\n",
    "            if arr[j] > arr[j+1]:\n",
    "                arr[j],arr[j+1] = arr[j+1] , arr[j]\n",
    "                \n",
    "# Driver code\n",
    "arr = [2,1,0]\n",
    "bubble_sort(arr)\n",
    "print(arr)"
   ]
  },
  {
   "cell_type": "code",
   "execution_count": 6,
   "id": "9933134f",
   "metadata": {},
   "outputs": [
    {
     "name": "stdout",
     "output_type": "stream",
     "text": [
      "Pass 1 : [2, 3, 3, 4, 1, 0, 6]\n",
      "Pass 2 : [2, 3, 3, 1, 0, 4, 6]\n",
      "Pass 3 : [2, 3, 1, 0, 3, 4, 6]\n",
      "Pass 4 : [2, 1, 0, 3, 3, 4, 6]\n",
      "Pass 5 : [1, 0, 2, 3, 3, 4, 6]\n",
      "Pass 6 : [0, 1, 2, 3, 3, 4, 6]\n",
      "Sorted arr : [0, 1, 2, 3, 3, 4, 6]\n"
     ]
    }
   ],
   "source": [
    "# Ek list me repeated numbers hain, Bubble Sort lagao aur har step ka output print karo.\n",
    "\n",
    "\n",
    "def bubble_sort_repeated_num (arr):\n",
    "    \n",
    "    for i in range(len(arr)-1 , 0 , -1):\n",
    "        for j in range(i):\n",
    "            if arr[j] > arr[j+1]:\n",
    "                arr[j],arr[j+1] = arr[j+1] , arr[j]\n",
    "        print(f\"Pass {len(arr)-i} : {arr}\")  # Show intermediate step\n",
    "\n",
    "\n",
    "# Driver Code \n",
    "\n",
    "arr = [2,3,4,3,6,1,0]\n",
    "bubble_sort_repeated_num(arr)\n",
    "print(f'Sorted arr : {arr}')"
   ]
  },
  {
   "cell_type": "code",
   "execution_count": 1,
   "id": "2a2f1911",
   "metadata": {},
   "outputs": [
    {
     "name": "stdout",
     "output_type": "stream",
     "text": [
      "Sorted list: [1, 2, 3, 4, 5, 6, 9, 10]\n"
     ]
    }
   ],
   "source": [
    "# Ek list reverse sorted hai (descending order me), use Bubble Sort se minimum number of swaps me sort karo.\n",
    "\n",
    "def bubble_sort_min_swaps(arr):\n",
    "\n",
    "    for i in range(len(arr)-1,0,-1):\n",
    "        isSorted = True\n",
    "        for j in range(i):\n",
    "            if arr[j] > arr[j+1]:\n",
    "                isSorted = False\n",
    "                arr[j],arr[j+1] = arr[j+1] ,arr[j]\n",
    "        \n",
    "        if isSorted:\n",
    "            break\n",
    "\n",
    "\n",
    "\n",
    "# Driver code \n",
    "arr = [1,2,3,4,9,5,6,10]\n",
    "bubble_sort_min_swaps(arr)\n",
    "print(\"Sorted list:\" , arr)"
   ]
  },
  {
   "cell_type": "code",
   "execution_count": 4,
   "id": "fd3d6bad",
   "metadata": {},
   "outputs": [
    {
     "name": "stdout",
     "output_type": "stream",
     "text": [
      "Arr is alrady sorted\n",
      "Sorted list: [1, 2, 3, 4, 5]\n"
     ]
    }
   ],
   "source": [
    "# Check karo agar list already sorted hai toh Bubble Sort optimize karo (early exit).\n",
    "\n",
    "def bubble_sort_min_swaps(arr):\n",
    "\n",
    "    for i in range(len(arr)-1,0,-1):\n",
    "        isSorted = True\n",
    "        for j in range(i):\n",
    "            if arr[j] > arr[j+1]:\n",
    "                isSorted = False\n",
    "                arr[j],arr[j+1] = arr[j+1] ,arr[j]\n",
    "        \n",
    "        if isSorted:\n",
    "            print(\"Arr is alrady sorted\")\n",
    "            break\n",
    "\n",
    "\n",
    "\n",
    "# Driver code \n",
    "arr = [1,2,3,4,5]\n",
    "bubble_sort_min_swaps(arr)\n",
    "print(\"Sorted list:\" , arr)"
   ]
  },
  {
   "cell_type": "code",
   "execution_count": null,
   "id": "ce4033ab",
   "metadata": {},
   "outputs": [],
   "source": [
    "'''📍 Selection Sort – Questions\n",
    "Selection sort ka use karke array ko descending order me sort karo.\n",
    "Har step pe minimum element ka index print karo.\n",
    "Ek array me duplicates hain, uske baad bhi selection sort ka output sahi aayega kya? Prove karo.\n",
    "Selection Sort ko use karke second smallest element find karo bina pura array sort kiye.\n",
    "'''"
   ]
  },
  {
   "cell_type": "code",
   "execution_count": 17,
   "id": "950525ef",
   "metadata": {},
   "outputs": [
    {
     "name": "stdout",
     "output_type": "stream",
     "text": [
      "Step : 1 : [9, 4, 5, 3, 1]\n",
      "Step : 2 : [9, 5, 4, 3, 1]\n",
      "Step : 3 : [9, 5, 4, 3, 1]\n",
      "Step : 4 : [9, 5, 4, 3, 1]\n",
      "Step : 5 : [9, 5, 4, 3, 1]\n",
      "[9, 5, 4, 3, 1]\n"
     ]
    }
   ],
   "source": [
    "# Selection sort ka use karke array ko descending order me sort karo.\n",
    "\n",
    "def Selection_sort_descO(arr):\n",
    "\n",
    "    for i in range(len(arr)):\n",
    "        max_idx = i\n",
    "\n",
    "        for j in range(i+1 , len(arr)):\n",
    "            if arr[j] > arr[max_idx]:\n",
    "                max_idx = j\n",
    "        arr[i] , arr[max_idx] = arr[max_idx] , arr[i]\n",
    "        print(f\"Step : {i+1} : {arr}\")\n",
    "\n",
    "arr = [3,4,5,9,1]\n",
    "Selection_sort_descO(arr)\n",
    "print(arr)"
   ]
  },
  {
   "cell_type": "code",
   "execution_count": 18,
   "id": "f9ed25da",
   "metadata": {},
   "outputs": [],
   "source": [
    "# Har step pe minimum element ka index print karo."
   ]
  },
  {
   "cell_type": "code",
   "execution_count": null,
   "id": "04007df5",
   "metadata": {},
   "outputs": [],
   "source": [
    "'''✍️ Insertion Sort – Questions\n",
    "Ek unsorted list lo — har step par insertion sort me kaisa lagta hai array? Print karo.\n",
    "Insertion Sort se descending order me sort karo.\n",
    "Insertion Sort lagate waqt kitni comparisons ho rahi hain? Count karo.\n",
    "Sorted linked list me naya element insert karna ho — insertion sort jaisa logic apply karo.\n",
    "'''"
   ]
  },
  {
   "cell_type": "code",
   "execution_count": null,
   "id": "da829e68",
   "metadata": {},
   "outputs": [],
   "source": [
    "# Ek unsorted list lo — har step par insertion sort me kaisa lagta hai array? Print karo.\n"
   ]
  },
  {
   "cell_type": "code",
   "execution_count": 11,
   "id": "9b14be27",
   "metadata": {},
   "outputs": [
    {
     "name": "stdout",
     "output_type": "stream",
     "text": [
      "Move disk 1 from S to D\n",
      "move disk 2 from S to A\n",
      "Move disk 1 from D to A\n",
      "move disk 3 from S to D\n",
      "Move disk 1 from A to S\n",
      "move disk 2 from A to D\n",
      "Move disk 1 from S to D\n"
     ]
    }
   ],
   "source": [
    "'''Ek Tower of Hanoi puzzle me 3 rods (A, B, C) hain aur n disks hain — saare disks rod A pe stacked hain (bada neeche, chhota upar).\n",
    "Tumhe sabhi disks ko rod C pe move karna hai, lekin rules ye hain:\n",
    "Ek time pe sirf ek disk utha sakte ho.\n",
    "Badi disk chhoti disk ke upar nahi ja sakti.\n",
    "Rod B ko auxiliary rod ke tarah use karo.'''\n",
    "\n",
    "\n",
    "def tower_of_hanoi(n, source , destination , auxiliary ) :\n",
    "\n",
    "    # Base Condition\n",
    "    if n == 1:\n",
    "        print(f\"Move disk 1 from {source} to {destination}\")\n",
    "    \n",
    "    # Recursion Call\n",
    "        return\n",
    "    tower_of_hanoi (n-1 , source , auxiliary , destination)\n",
    "    print(f\"move disk {n} from {source} to {destination}\")\n",
    "    tower_of_hanoi (n-1 , auxiliary , destination , source)\n",
    "\n",
    "tower_of_hanoi(3,\"S\" , \"D\" , \"A\")"
   ]
  },
  {
   "cell_type": "code",
   "execution_count": 10,
   "id": "fd30c281",
   "metadata": {},
   "outputs": [
    {
     "name": "stdout",
     "output_type": "stream",
     "text": [
      "15\n"
     ]
    }
   ],
   "source": [
    "def tower_of_hanoi(n, source, destination, auxiliary) :\n",
    "\n",
    "    # Base Condition\n",
    "    if n == 1:\n",
    "        return 1\n",
    "    \n",
    "    # Recursion Call\n",
    "    return tower_of_hanoi (n-1 , source , auxiliary , destination) + 1 + tower_of_hanoi (n-1 , auxiliary , destination , source)\n",
    "\n",
    "print (tower_of_hanoi(4,\"source\" , \"destination\" , \"auxiliary\"))"
   ]
  },
  {
   "cell_type": "code",
   "execution_count": null,
   "id": "c11a658f",
   "metadata": {},
   "outputs": [
    {
     "name": "stdout",
     "output_type": "stream",
     "text": [
      "Move disk 1 from A to C\n",
      "Move disk 2 from A to B\n",
      "Move disk 1 from C to B\n",
      "Move disk 3 from A to C\n",
      "Move disk 1 from B to A\n",
      "Move disk 2 from B to C\n",
      "Move disk 1 from A to C\n"
     ]
    }
   ],
   "source": [
    "# both are same code .\n",
    "\n",
    "\n",
    "def tower_of_hanoi_iterative(n, source='A', destination='C', auxiliary='B'):\n",
    "    total_moves = 2 ** n - 1  # Total moves required\n",
    "\n",
    "    # Stack ke naam\n",
    "    rods = {\n",
    "        'A': [],\n",
    "        'B': [],\n",
    "        'C': []\n",
    "    }\n",
    "\n",
    "    # Fill source rod\n",
    "    for disk in range(n, 0, -1):\n",
    "        rods[source].append(disk)\n",
    "\n",
    "    # Rod order change for even number of disks\n",
    "    if n % 2 == 0:\n",
    "        destination, auxiliary = auxiliary, destination\n",
    "\n",
    "    def move(from_rod, to_rod):\n",
    "        disk = rods[from_rod].pop()\n",
    "        rods[to_rod].append(disk)\n",
    "        print(f\"Move disk {disk} from {from_rod} to {to_rod}\")\n",
    "\n",
    "    for move_num in range(1, total_moves + 1):\n",
    "        if move_num % 3 == 1:\n",
    "            # source <-> destination\n",
    "            _move_between(rods, source, destination)\n",
    "        elif move_num % 3 == 2:\n",
    "            # source <-> auxiliary\n",
    "            _move_between(rods, source, auxiliary)\n",
    "        else:\n",
    "            # auxiliary <-> destination\n",
    "            _move_between(rods, auxiliary, destination)\n",
    "\n",
    "def _move_between(rods, rod1, rod2):\n",
    "    if not rods[rod1]:\n",
    "        move_disk(rods, rod2, rod1)\n",
    "    elif not rods[rod2]:\n",
    "        move_disk(rods, rod1, rod2)\n",
    "    elif rods[rod1][-1] < rods[rod2][-1]:\n",
    "        move_disk(rods, rod1, rod2)\n",
    "    else:\n",
    "        move_disk(rods, rod2, rod1)\n",
    "\n",
    "def move_disk(rods, from_rod, to_rod):\n",
    "    disk = rods[from_rod].pop()\n",
    "    rods[to_rod].append(disk)\n",
    "    print(f\"Move disk {disk} from {from_rod} to {to_rod}\")\n",
    "\n",
    "tower_of_hanoi_iterative(3)\n"
   ]
  },
  {
   "cell_type": "code",
   "execution_count": 5,
   "id": "0c3eee2c",
   "metadata": {},
   "outputs": [
    {
     "name": "stdout",
     "output_type": "stream",
     "text": [
      "[1, 2, 3, 4, 5]\n",
      "[1, 2, 3, 4, 5]\n",
      "[1]\n"
     ]
    }
   ],
   "source": [
    "'''Q:\n",
    "Ek list di gayi hai. Tumhe use circularly left se right direction me k baar rotate karna hai.\n",
    "Rotation ka matlab hai — list ka last element, list ke starting me aa jata hai, aur baaki sab ek ek index aage shift ho jaate hain.'''\n",
    "\n",
    "def right_left_rotate(arr,k):\n",
    "\n",
    "    k = k%len(arr)  # Less rotation \n",
    "\n",
    "    for i in range(k):\n",
    "        prev = arr[0]\n",
    "        curr = arr[0]\n",
    "        arr[0] = arr[len(arr)-1]\n",
    "        j = 1\n",
    "        while(j<len(arr)):\n",
    "            curr = arr[j]\n",
    "            arr[j] = prev\n",
    "            prev = curr\n",
    "            j+=1\n",
    "\n",
    "arr1 = [1,2,3,4,5]\n",
    "arr2 = [3,4,5,1,2]\n",
    "arr3 = [1]\n",
    "\n",
    "right_left_rotate(arr1,5)\n",
    "print(arr1)\n",
    "right_left_rotate(arr2,2)\n",
    "print(arr2)\n",
    "right_left_rotate(arr3,10)\n",
    "print(arr3)\n",
    "\n",
    "\n"
   ]
  },
  {
   "cell_type": "code",
   "execution_count": null,
   "id": "14b4ac26",
   "metadata": {},
   "outputs": [
    {
     "name": "stdout",
     "output_type": "stream",
     "text": [
      "[4, 5, 6, 7, 1, 2, 3]\n"
     ]
    }
   ],
   "source": [
    "#                                                                                                               .\n",
    "\n",
    "def reverse_rec(arr , si , ei):\n",
    "   \n",
    "    # Base Condition \n",
    "\n",
    "    if si>=ei:\n",
    "        return \n",
    "    \n",
    "    arr[si],arr[ei] = arr[ei],arr[si]\n",
    "\n",
    "    # Recursion call\n",
    "    reverse_rec (arr , si+1 , ei-1)\n",
    "\n",
    "def rotate_k_using_recursion(arr, k):\n",
    "    k = k%len(arr)\n",
    "    n = len(arr)-1\n",
    "\n",
    "    # Reverse the entire arr\n",
    "    reverse_rec(arr,0,n)\n",
    "\n",
    "    # reverse the 1'st 'k' element\n",
    "    reverse_rec(arr,0,k-1)\n",
    "\n",
    "    # reverse last n-k elemrnt\n",
    "    reverse_rec(arr,k,n)\n",
    "\n",
    "\n",
    "arr = [1,2,3,4,5,6,7]\n",
    "rotate_k_using_recursion(arr, 4)\n",
    "print(arr)"
   ]
  },
  {
   "cell_type": "code",
   "execution_count": null,
   "id": "0c1d1203",
   "metadata": {},
   "outputs": [],
   "source": []
  }
 ],
 "metadata": {
  "kernelspec": {
   "display_name": "Python 3",
   "language": "python",
   "name": "python3"
  },
  "language_info": {
   "codemirror_mode": {
    "name": "ipython",
    "version": 3
   },
   "file_extension": ".py",
   "mimetype": "text/x-python",
   "name": "python",
   "nbconvert_exporter": "python",
   "pygments_lexer": "ipython3",
   "version": "3.13.2"
  }
 },
 "nbformat": 4,
 "nbformat_minor": 5
}
