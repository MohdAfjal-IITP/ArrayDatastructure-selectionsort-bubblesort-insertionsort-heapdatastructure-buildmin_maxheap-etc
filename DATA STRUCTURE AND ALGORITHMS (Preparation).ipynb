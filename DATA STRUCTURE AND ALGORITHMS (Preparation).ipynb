{
 "cells": [
  {
   "cell_type": "code",
   "execution_count": null,
   "id": "d37f5fd9",
   "metadata": {},
   "outputs": [
    {
     "name": "stdout",
     "output_type": "stream",
     "text": [
      "Searching element is present at index : 5\n"
     ]
    }
   ],
   "source": [
    "# Liner Serch \n",
    "# Function defination \n",
    "# time complexity : O(n)\n",
    "# Space complexity : O(1)\n",
    "\n",
    "def linerserch_num(arr,x):\n",
    "\n",
    "    for i in range(0,n):\n",
    "        if arr[i] == x:\n",
    "            return i\n",
    "    return -1\n",
    "\n",
    "# Driver Code \n",
    "arr = [20,45,27,47,55,67,75,88,90]\n",
    "n = len(arr)\n",
    "# Function calling\n",
    "result = linerserch_num(arr,67)\n",
    "print(\"Searching element is present at index :\",result)"
   ]
  },
  {
   "cell_type": "code",
   "execution_count": null,
   "id": "0919adac",
   "metadata": {},
   "outputs": [
    {
     "name": "stdout",
     "output_type": "stream",
     "text": [
      "Element found at index: 8\n"
     ]
    }
   ],
   "source": [
    "# Binary Serch \n",
    "# Function defination \n",
    "# time complexity : O(logn)\n",
    "# Space complexity : O(1)\n",
    "\n",
    "def BinarySerch(arr,STi,ENi):\n",
    "    while STi<=ENi:\n",
    "        mid  = STi+(ENi-STi)//2\n",
    "        if arr[mid]==x:\n",
    "            return mid\n",
    "        elif arr[mid]>x:\n",
    "            # left side of the mid\n",
    "            # Search space i to mid-1\n",
    "            return BinarySerch(arr,STi,mid-1)\n",
    "        else:\n",
    "            # right side of the mid\n",
    "            # Search space mid+1 to j\n",
    "            return BinarySerch(arr,mid+1,ENi)\n",
    "    return -1\n",
    "\n",
    "## Driver Code\n",
    "arr = [20 , 30 , 40,50,60,70,85,100,110]\n",
    "x = int(input(\"Enter a serching Number : \"))\n",
    "\n",
    "## Function Call\n",
    "result = BinarySerch(arr,0,len(arr)-1)\n",
    "if result != -1:\n",
    "    print (f\"Element found at index: {result}\")\n",
    "else:\n",
    "    print(\"Element not found.\")"
   ]
  },
  {
   "cell_type": "code",
   "execution_count": 21,
   "id": "62e83fe9",
   "metadata": {},
   "outputs": [
    {
     "name": "stdout",
     "output_type": "stream",
     "text": [
      "7\n"
     ]
    }
   ],
   "source": [
    "def BinarySerch(arr,STi,ENi):\n",
    "    while STi<=ENi:\n",
    "        mid  = STi+(ENi-STi)//2\n",
    "        if arr[mid]==x:\n",
    "            return mid\n",
    "        elif arr[mid]>x:\n",
    "            ENi = mid-1\n",
    "        else:\n",
    "            STi = mid+1\n",
    "    return -1\n",
    "\n",
    "## Driver Code\n",
    "arr = [20 , 30 , 40,50,60,70,85,100,110]\n",
    "x = int(input(\"Enter a serching Number : \"))\n",
    "## Function Call\n",
    "result = BinarySerch(arr,0,len(arr)-1)\n",
    "print (result)\n"
   ]
  },
  {
   "cell_type": "code",
   "execution_count": null,
   "id": "160cf201",
   "metadata": {},
   "outputs": [
    {
     "name": "stdout",
     "output_type": "stream",
     "text": [
      "(4, 5)\n"
     ]
    }
   ],
   "source": [
    "# Function Defination \n",
    "# Two pointer Approach interview Question \n",
    "# Time Complexity : O(n)\n",
    "\n",
    "def FindSum_num(arr,SI,EI,sum_value):\n",
    "\n",
    "    while SI < EI:\n",
    "        \n",
    "\n",
    "        if (arr[SI]+arr[EI] == sum_value):\n",
    "            return (SI,EI)\n",
    "        \n",
    "        elif (arr[SI]+arr[EI] > sum_value):\n",
    "            EI = EI-1\n",
    "        else:\n",
    "            SI = SI+1\n",
    "\n",
    "# Driver Code \n",
    "arr = [20 , 40 , 60 , 80 , 90 , 120 , 240]\n",
    "sum_value = 210\n",
    "result = FindSum_num(arr ,0,len(arr)-1,sum_value)\n",
    "print(result)"
   ]
  },
  {
   "cell_type": "code",
   "execution_count": 23,
   "id": "4e357547",
   "metadata": {},
   "outputs": [
    {
     "name": "stdout",
     "output_type": "stream",
     "text": [
      "The MAximum Profit of buying and selling the stocks is :  5\n"
     ]
    }
   ],
   "source": [
    "#  Best Time to buy and Sell The Stocks\n",
    "\n",
    "\n",
    "def FindMax_Profit(Price):\n",
    "    minPrice = float('inf')\n",
    "    maxProfit = 0\n",
    "\n",
    "    for i in range(len(Price)):\n",
    "        if Price[i] < minPrice :\n",
    "            minPrice = Price[i]\n",
    "\n",
    "        elif Price[i] - minPrice > maxProfit:\n",
    "            maxProfit = Price[i]-minPrice\n",
    "    \n",
    "    return maxProfit\n",
    "\n",
    "#  Driver Code\n",
    "Price = [7,1,5,3,6,4]\n",
    "maxPtofit_Value = FindMax_Profit(Price)\n",
    "print(\"The MAximum Profit of buying and selling the stocks is : \" ,maxPtofit_Value )\n"
   ]
  },
  {
   "cell_type": "code",
   "execution_count": null,
   "id": "05b181ed",
   "metadata": {},
   "outputs": [
    {
     "name": "stdout",
     "output_type": "stream",
     "text": [
      "(2, 3)\n"
     ]
    }
   ],
   "source": [
    "# Function Defination\n",
    "# Serch in 2d Array \n",
    "\n",
    "def Find_num2D(arr,Target_num,SI,EI):\n",
    "\n",
    "\n",
    "    mid = SI+(EI-SI)//2\n",
    "\n",
    "\n",
    "    row_num = mid//cols\n",
    "    cols_num = mid%cols\n",
    "\n",
    "    if arr[row_num][cols_num] == Target_num:\n",
    "        return row_num,cols_num\n",
    "    \n",
    "    elif arr[row_num][cols_num] > Target_num:\n",
    "        return Find_num2D(arr,Target_num,SI,mid-1)\n",
    "\n",
    "    else:\n",
    "        return Find_num2D(arr,Target_num,mid+1,EI)\n",
    "\n",
    "# Driver Code \n",
    "\n",
    "arr = [\n",
    "    [1 , 3 , 5 , 7],\n",
    "    [10 , 11 , 16 , 20],\n",
    "    [23 , 30 , 34 , 60 ]\n",
    "]\n",
    "\n",
    "row = len(arr)\n",
    "cols = len(arr[0])\n",
    "EI = row*cols-1\n",
    "SI = 0\n",
    "Target_num = 60\n",
    "\n",
    "result  = Find_num2D(arr,Target_num , SI , EI)\n",
    "print(result)"
   ]
  },
  {
   "cell_type": "code",
   "execution_count": null,
   "id": "b4e16c29",
   "metadata": {},
   "outputs": [
    {
     "name": "stdout",
     "output_type": "stream",
     "text": [
      "False\n"
     ]
    }
   ],
   "source": [
    "# Function Defenation \n",
    "# Time complexity = O(log(m*n))\n",
    "\n",
    "def Serch2Darray(arr,Traget_Num):\n",
    "\n",
    "    # Number  of rows\n",
    "    m = len(arr)\n",
    "    if m == 0:\n",
    "        return False\n",
    "    # number of colums\n",
    "    n = len(arr[0])\n",
    "\n",
    "    # ST INDEX\n",
    "    L = 0\n",
    "    # EI INDEX\n",
    "    R = m*n-1\n",
    "\n",
    "    # Binary Serch Implementation \n",
    "    while L <= R :\n",
    "        mid = L +(R-L) // 2\n",
    "        # row_number -> mid//n\n",
    "        # column_number -> mid%n\n",
    "        mid_Element = arr[mid//n][mid%n]\n",
    "\n",
    "        if Traget_Num == mid_Element :\n",
    "            return True\n",
    "        \n",
    "        elif  Traget_Num < mid_Element:\n",
    "            R = mid-1\n",
    "\n",
    "        else:\n",
    "            L = mid+1\n",
    "\n",
    "    return False\n",
    "\n",
    "# Driver Code \n",
    "\n",
    "arr = [\n",
    "    [1 , 3 , 5 , 7],\n",
    "    [10 , 11 , 16 , 20],\n",
    "    [23 , 30 , 34 , 60 ]\n",
    "]\n",
    "Traget_Num = 55\n",
    "\n",
    "Result = Serch2Darray(arr,Traget_Num)\n",
    "print(Result)\n"
   ]
  },
  {
   "cell_type": "code",
   "execution_count": 13,
   "id": "1e57861b",
   "metadata": {},
   "outputs": [
    {
     "name": "stdout",
     "output_type": "stream",
     "text": [
      "(1, 2)\n"
     ]
    }
   ],
   "source": [
    "\n",
    "def Serch2Darray_liner(arr,Traget_Num):\n",
    "\n",
    "    cols = len(arr[0])\n",
    "    row = len(arr)\n",
    "\n",
    "    for i in range(row):\n",
    "        for j in range(cols):\n",
    "            if arr[i][j] == Traget_Num:\n",
    "                return i,j           \n",
    "    return False\n",
    "\n",
    "# Driver Code \n",
    "\n",
    "arr = [\n",
    "    [1 , 3 , 5 , 7],\n",
    "    [10 , 11 , 16 , 20],\n",
    "    [23 , 30 , 34 , 60 ]\n",
    "]\n",
    "Traget_Num = 16\n",
    "\n",
    "Result = Serch2Darray_liner(arr,Traget_Num)\n",
    "print(Result)"
   ]
  },
  {
   "cell_type": "code",
   "execution_count": null,
   "id": "15e0bdf1",
   "metadata": {},
   "outputs": [
    {
     "name": "stdout",
     "output_type": "stream",
     "text": [
      "Index of 59 is: 4\n"
     ]
    }
   ],
   "source": [
    "# Function Defination\n",
    "# Ternary serch implementation \n",
    "\n",
    "def ternarySerch(arr,l,r,key):\n",
    "\n",
    "    # Find mid1\n",
    "    mid1 = l+(r-l)//3\n",
    "    # Find mid2\n",
    "    mid2 = r-(r-l)//3\n",
    "\n",
    "    while l<=r:\n",
    "\n",
    "        if arr[mid1] == key:\n",
    "            return mid1\n",
    "        \n",
    "        elif arr[mid2] == key:\n",
    "            return mid2\n",
    "        # First part of the ternary serch\n",
    "        elif key < arr[mid1]:\n",
    "            return ternarySerch(arr,l,mid1-1,key)\n",
    "        # Third part of the ternary serch\n",
    "        elif key > arr[mid2]:\n",
    "            return ternarySerch(arr,mid2+1,r,key)\n",
    "        # Secound part of the ternary serch\n",
    "        else:\n",
    "            return ternarySerch(arr,mid1+1,mid2-1,key)\n",
    "    ## if the  serching element is not present in the array\n",
    "    return -1\n",
    "\n",
    "# Driver Code\n",
    "\n",
    "arr = [20,25,47,56,59,63,65,79,82]\n",
    "key = int(input('Enter number to be found : '))\n",
    "l = 0\n",
    "r = len(arr)-1\n",
    "## Call Function \n",
    "Result = ternarySerch(arr,l,r,key)\n",
    "print(\"Index of\", key, \"is:\", Result)"
   ]
  },
  {
   "cell_type": "code",
   "execution_count": null,
   "id": "79b0c0c1",
   "metadata": {},
   "outputs": [
    {
     "name": "stdout",
     "output_type": "stream",
     "text": [
      "Array after using bubble Sort is : [20, 35, 47, 50, 60, 70]\n"
     ]
    }
   ],
   "source": [
    "# Function Defination\n",
    "# time complexity : O(n^2)\n",
    "def bubbleSort(arr):\n",
    "\n",
    "    for i in range(len(arr)-1,0,-1):\n",
    "        for j in range(i):\n",
    "            if arr[j]>arr[j+1]:\n",
    "                arr[j],arr[j+1] = arr[j+1],arr[j]\n",
    "    return arr\n",
    "\n",
    "\n",
    "# Driver Code\n",
    "\n",
    "arr = [70,20,50,60,35,47]\n",
    "Result = bubbleSort(arr)\n",
    "print(\"Array after using bubble Sort is :\" , Result)"
   ]
  },
  {
   "cell_type": "code",
   "execution_count": null,
   "id": "ca9965c7",
   "metadata": {},
   "outputs": [
    {
     "name": "stdout",
     "output_type": "stream",
     "text": [
      "Sorted array after applying selection sort :  [19, 25, 37, 48, 56, 70]\n"
     ]
    }
   ],
   "source": [
    "# Function Defination\n",
    "# Time Complexity : O(n^2)\n",
    "def selectionSort(arr):\n",
    "\n",
    "    n = len(arr)\n",
    "    for i in range(n):\n",
    "        min = i\n",
    "        for j in range(i+1,n):\n",
    "            if arr[min]>arr[j]:\n",
    "                min = j\n",
    "        arr[i],arr[min]=arr[min],arr[i]\n",
    "    return arr\n",
    "\n",
    "# Driver Code\n",
    "\n",
    "arr = [70,56,19,25,37,48]\n",
    "result = selectionSort(arr)\n",
    "print(\"Sorted array after applying selection sort : \" , result)"
   ]
  },
  {
   "cell_type": "code",
   "execution_count": 1,
   "id": "8f353af7",
   "metadata": {},
   "outputs": [
    {
     "name": "stdout",
     "output_type": "stream",
     "text": [
      "Sorted array after applying insertionSort :  [75, 80, 85, 90, 95, 100]\n"
     ]
    }
   ],
   "source": [
    "# Function Defination \n",
    "# time Complexity : O(n^2)\n",
    "\n",
    "def insertionSort(arr):\n",
    "\n",
    "    for i in range(1 , len(arr)):\n",
    "        key = arr[i]\n",
    "        j = i-1\n",
    "\n",
    "        while j>=0 and key < arr[j]:\n",
    "            arr[j+1] = arr[j]\n",
    "            j = j-1\n",
    "\n",
    "        arr[j+1] = key\n",
    "\n",
    "    return arr\n",
    "    \n",
    "\n",
    "# Driver Code \n",
    "\n",
    "arr = [75,90,100,95,85,80]\n",
    "result = insertionSort(arr)\n",
    "print(\"Sorted array after applying insertionSort : \" , result)"
   ]
  },
  {
   "cell_type": "code",
   "execution_count": null,
   "id": "1c6558b8",
   "metadata": {},
   "outputs": [
    {
     "name": "stdout",
     "output_type": "stream",
     "text": [
      "4\n"
     ]
    }
   ],
   "source": [
    "# Squre root in Brute Force approch \n",
    "\n",
    "def sqre(x):\n",
    "\n",
    "\n",
    "    if x == 0 or x == 1:\n",
    "        return x\n",
    "\n",
    "    for i in range(1,x):\n",
    "\n",
    "        if i*i > x:\n",
    "            return i-1\n",
    "        \n",
    "\n",
    "# Driver code \n",
    "\n",
    "x = int(input(\"enter a number : \"))\n",
    "result = sqre(x)\n",
    "print(result)"
   ]
  },
  {
   "cell_type": "code",
   "execution_count": 9,
   "id": "1f826aec",
   "metadata": {},
   "outputs": [
    {
     "name": "stdout",
     "output_type": "stream",
     "text": [
      "7\n"
     ]
    }
   ],
   "source": [
    "def sqreBinary(x):\n",
    "\n",
    "    lower = 0\n",
    "    higer = x\n",
    "    ans = 0\n",
    "\n",
    "    while lower <= higer:\n",
    "        mid = lower+(higer-lower)//2\n",
    "\n",
    "        if mid*mid == x:\n",
    "            return mid\n",
    "        \n",
    "        elif mid*mid < x:\n",
    "            ans = mid\n",
    "            lower = mid+1\n",
    "            \n",
    "        else:\n",
    "            higer = mid-1\n",
    "\n",
    "    return ans\n",
    "\n",
    "# Driver code \n",
    "\n",
    "x = int(input(\"enter a number : \"))\n",
    "result = sqreBinary(x)\n",
    "print(result)\n",
    "\n"
   ]
  },
  {
   "cell_type": "code",
   "execution_count": 10,
   "id": "ff2ef407",
   "metadata": {},
   "outputs": [
    {
     "name": "stdout",
     "output_type": "stream",
     "text": [
      "[2, 5, 10, 20, 40, 60, 80]\n"
     ]
    }
   ],
   "source": [
    "# Function defination \n",
    "# HEAP SORT \n",
    "\n",
    "def min_heapify(arr,n,i):\n",
    "\n",
    "    smallest = i\n",
    "    L = 2*i+1\n",
    "    R = 2*i+2\n",
    " \n",
    "    if L<n and arr[L]<arr[smallest]:\n",
    "        smallest = L\n",
    "    \n",
    "    if R < n and arr[R]<arr[smallest]:\n",
    "        smallest = R\n",
    "\n",
    "    if smallest != i:\n",
    "        arr[i],arr[smallest]=arr[smallest],arr[i]\n",
    "        min_heapify(arr,n,smallest)\n",
    "\n",
    "\n",
    "def min_heap_sort(arr):\n",
    "    n = len(arr)\n",
    "\n",
    "\n",
    "    for i in range( n//2-1,-1,-1):\n",
    "        min_heapify(arr,n,i)\n",
    "\n",
    "    for i in range(n-1,0,-1):\n",
    "        arr[i],arr[0]=arr[0],arr[i]\n",
    "        min_heapify(arr,i,0)\n",
    "    \n",
    "    arr.reverse()\n",
    "\n",
    "# Driver code\n",
    "\n",
    "arr =  [40, 20, 60, 10, 80, 5,2]\n",
    "min_heap_sort(arr)\n",
    "print(arr)"
   ]
  },
  {
   "cell_type": "code",
   "execution_count": 1,
   "id": "428b56a9",
   "metadata": {},
   "outputs": [
    {
     "name": "stdout",
     "output_type": "stream",
     "text": [
      "Min Heap: [2, 10, 5, 20, 80, 40, 60]\n"
     ]
    }
   ],
   "source": [
    "def min_heapify(arr, n, i):\n",
    "    smallest = i\n",
    "    left = 2 * i + 1  # left child index\n",
    "    right = 2 * i + 2  # right child index\n",
    "\n",
    "    if left < n and arr[left] < arr[smallest]:\n",
    "        smallest = left\n",
    "\n",
    "    if right < n and arr[right] < arr[smallest]:\n",
    "        smallest = right\n",
    "\n",
    "    if smallest != i:\n",
    "        arr[i], arr[smallest] = arr[smallest], arr[i]\n",
    "        min_heapify(arr, n, smallest)\n",
    "\n",
    "\n",
    "def buildHeap(arr, n):\n",
    "    # Start from the last non-leaf node and heapify each node\n",
    "    for i in range(n // 2 - 1, -1, -1):\n",
    "        min_heapify(arr, n, i)\n",
    "    return arr\n",
    "\n",
    "\n",
    "# Example usage:\n",
    "arr =  [40, 20, 60, 10, 80, 5,2]\n",
    "n = len(arr)\n",
    "min_heap = buildHeap(arr, n)\n",
    "print(\"Min Heap:\", min_heap)\n"
   ]
  },
  {
   "cell_type": "code",
   "execution_count": 9,
   "id": "6129baad",
   "metadata": {},
   "outputs": [
    {
     "name": "stdout",
     "output_type": "stream",
     "text": [
      "[1, 3, 2, 10, 7, 5, 8, 45, 20, 80, 9, 12, 11, 60, 16]\n"
     ]
    }
   ],
   "source": [
    "\n",
    "\n",
    "# Function defination\n",
    "\n",
    "def min_heapify1(arr,n,i):\n",
    "    smallest = i\n",
    "    L = 2*i+1\n",
    "    R = 2*i+2\n",
    "\n",
    "    if L<n and arr[L]<arr[smallest]:\n",
    "        smallest = L\n",
    "    if R<n and arr[R]<arr[smallest]:\n",
    "        smallest = R\n",
    "    if smallest != i:\n",
    "        arr[smallest],arr[i]=arr[i],arr[smallest]\n",
    "        min_heapify1(arr,n,smallest)\n",
    "\n",
    "def build_minHeap(arr,n):\n",
    "    for i in range(n//2-1,-1,-1):\n",
    "        min_heapify1(arr,n,i)\n",
    "    return arr\n",
    "\n",
    "# Driver code\n",
    "\n",
    "arr = [45,20,60,10,80,5,2,1, 3, 7, 9, 12, 11, 8, 16]\n",
    "n = len(arr)\n",
    "result = build_minHeap(arr,n)\n",
    "print(result)"
   ]
  },
  {
   "cell_type": "code",
   "execution_count": 9,
   "id": "2780b624",
   "metadata": {},
   "outputs": [
    {
     "name": "stdout",
     "output_type": "stream",
     "text": [
      "Minimam and Maximum value in arr is : 20 , 92\n"
     ]
    }
   ],
   "source": [
    "# Q --> FINDING OF THE MAXIMA AND MINIMA USING DIVIDE AND CONQUER APPROACH.\n",
    "\n",
    "# Recurrence Relation : T(n) = 2T(n/2)+c\n",
    "# solve using master's theorem : T(n) = O(n)\n",
    "# Method definition of max and min function\n",
    "def Find_maximaMinima(arr,l,r):\n",
    "    # small problem -> n<3   ----> Time complexity : C\n",
    "\n",
    "    # single element condition\n",
    "    if l == r:\n",
    "        min_val = arr[i]\n",
    "        max_val = arr[i]\n",
    "    # Two element condition\n",
    "    elif l == r-1:\n",
    "        if arr[l]<arr[r]:\n",
    "            min_val = arr[l]\n",
    "            max_val = arr[r]\n",
    "        else:\n",
    "            min_val = arr[r]\n",
    "            max_val = arr[l]\n",
    "    \n",
    "    # Big Problem -> n>2\n",
    "\n",
    "    else:\n",
    "        ## Divide and conquer approach\n",
    "        # 1.Divide -C\n",
    "        mid = l+(r-l)//2\n",
    "        # 2. Recursion -> Conquer ---> 2T(n/2)\n",
    "        min_1,max_1 = Find_maximaMinima(arr,l,mid)\n",
    "        min_2,max_2 = Find_maximaMinima(arr,mid+1,r)\n",
    "\n",
    "        #Combine --> C\n",
    "        # To find the final minima\n",
    "        if min_1<min_2:\n",
    "            min_val = min_1\n",
    "        else:\n",
    "            min_val = min_2\n",
    "\n",
    "        # To find the final maxima\n",
    "        if max_1<max_2:\n",
    "            max_val = max_2\n",
    "\n",
    "        else:\n",
    "            max_val = max_1\n",
    "\n",
    "    return min_val,max_val\n",
    "\n",
    "# Driver Code\n",
    "arr = [20,39,45,65,21,44,89,92]\n",
    "# l indicates the starting index\n",
    "l = 0\n",
    "# r indicates the ending index \n",
    "r = len(arr)-1\n",
    "# Function calling\n",
    "min_val , max_val = Find_maximaMinima(arr,l,r)\n",
    "print(\"Minimam and Maximum value in arr is :\" , min_val,\",\", max_val)"
   ]
  },
  {
   "cell_type": "code",
   "execution_count": null,
   "id": "26e857a1",
   "metadata": {},
   "outputs": [
    {
     "name": "stdout",
     "output_type": "stream",
     "text": [
      "609359740010496\n"
     ]
    }
   ],
   "source": [
    "# Finding of the power of an element\n",
    "# Recurrence Relation : T(n) = T(n/2)+c\n",
    "# Time Complexity : O(logn)\n",
    "# Function Defination\n",
    "\n",
    "def powerElement(a,n):\n",
    "\n",
    "    # Small problam \n",
    "    if n == 0:\n",
    "        return 1\n",
    "    elif n == 1:\n",
    "        return a\n",
    "    else:\n",
    "        # big problam \n",
    "        # Divide \n",
    "        mid = n//2\n",
    "        # Conquer\n",
    "        x = powerElement(a,mid)\n",
    "\n",
    "    # Combine\n",
    "    result =  x*x\n",
    "\n",
    "    # Check Even or Odd\n",
    "    if n%2 == 0:\n",
    "        return result\n",
    "    else:\n",
    "        return result*a\n",
    "    \n",
    "# Driver Code\n",
    "a = int(input(\"Enter the base number (a): \"))\n",
    "n = int(input(\"Enter the exponent (power n): \"))\n",
    "# Function calling\n",
    "Power = powerElement(a,n)\n",
    "print(Power)"
   ]
  },
  {
   "cell_type": "code",
   "execution_count": null,
   "id": "d49dddc3",
   "metadata": {},
   "outputs": [
    {
     "name": "stdout",
     "output_type": "stream",
     "text": [
      "8\n"
     ]
    }
   ],
   "source": [
    "# Count of number of ways\n",
    "\n",
    "def Count_Way(n):\n",
    "\n",
    "    if n == 0 or  n == 1:\n",
    "        return 1\n",
    "    elif n == 2:\n",
    "        return 2\n",
    "\n",
    "    return Count_Way(n-1) + Count_Way(n-2)\n",
    "    \n",
    "# Driver code \n",
    "n = int(input(\"Enter a number : \"))\n",
    "print(Count_Way(n))"
   ]
  },
  {
   "cell_type": "code",
   "execution_count": 4,
   "id": "6cfb9de5",
   "metadata": {},
   "outputs": [
    {
     "name": "stdout",
     "output_type": "stream",
     "text": [
      "Min Heap : [10, 20, 15, 30, 40]\n"
     ]
    }
   ],
   "source": [
    "'''Given an array:\n",
    "arr = [10, 20, 15, 30, 40]\n",
    "Write a Python function buildMinHeap(arr) that rearranges the array into a valid min heap. Return the final heap array.\n",
    "Expected Output:\n",
    "[10, 20, 15, 30, 40] → [10, 20, 15, 30, 40] (Heapify will confirm this is valid min-heap)\n",
    "✅ Use bottom-up heapify (from last non-leaf node to root)\n",
    "✅ Use min_heapify() function'''\n",
    "\n",
    "# Function Defination\n",
    "# Time complexity : O(n)\n",
    "\n",
    "def min_heapify1(arr,i):\n",
    "    smallest = i\n",
    "    left = 2*i+1\n",
    "    right = 2*i+2\n",
    "\n",
    "    if left < n and arr[left] < arr[smallest]:\n",
    "        smallest = left\n",
    "    if arr[right]<arr[smallest]:\n",
    "        smallest = right\n",
    "    if smallest != i :\n",
    "        arr[i],arr[smallest]=arr[smallest],arr[i]\n",
    "        min_heapify1(arr,i)\n",
    "\n",
    "def buildMinHeap(arr):\n",
    "    n = len(arr)\n",
    "    for i in range(n//2-1,-1,-1):\n",
    "        min_heapify1(arr,i)\n",
    "    return arr\n",
    "\n",
    "# driver Code \n",
    "arr = [10,20,15,30,40]\n",
    "result = buildMinHeap(arr)\n",
    "print(\"Min Heap :\", result)"
   ]
  },
  {
   "cell_type": "code",
   "execution_count": 10,
   "id": "3961f126",
   "metadata": {},
   "outputs": [
    {
     "name": "stdout",
     "output_type": "stream",
     "text": [
      "Max heap :  [6, 5, 4, 1, 2, 3]\n"
     ]
    }
   ],
   "source": [
    "'''Q2:\n",
    "Given an array:\n",
    "arr = [3, 1, 6, 5, 2, 4]\n",
    "Write a Python function buildMaxHeap(arr) that transforms this into a max heap.\n",
    "Expected Output:\n",
    "A max-heap like [6, 5, 4, 1, 2, 3] (heap structure may vary, but should follow max-heap rules)\n",
    "✅ Apply max_heapify()\n",
    "✅ Heapify from n//2 - 1 to 0'''\n",
    "\n",
    "\n",
    "# function defination\n",
    "\n",
    "def max_heapify1(arr,n,i):\n",
    "    largest = i\n",
    "    left = 2*i+1\n",
    "    right = 2*i+2\n",
    "\n",
    "    if left < n and arr[left] > arr[largest]:\n",
    "        largest = left\n",
    "\n",
    "    if right < n and arr[right]>arr[largest]:\n",
    "        largest = right\n",
    "\n",
    "    if  largest != i :\n",
    "        arr[i],arr[largest]=arr[largest],arr[i]\n",
    "        max_heapify1(arr,n,largest)\n",
    "\n",
    "def buildMaxheap(arr,n):\n",
    "    for i in range(n//2-1,-1,-1):\n",
    "        max_heapify1(arr,n,i)\n",
    "    return arr\n",
    "\n",
    "# Driver Code\n",
    "arr = [3,1,6,5,2,4]\n",
    "n = len(arr)\n",
    "result = buildMaxheap(arr,n)\n",
    "print(\"Max heap : \" , result)\n"
   ]
  },
  {
   "cell_type": "code",
   "execution_count": 16,
   "id": "49ae157e",
   "metadata": {},
   "outputs": [
    {
     "name": "stdout",
     "output_type": "stream",
     "text": [
      "Brand : Maybazz , Model : S6 , Year : 2024 , Seats : 7\n",
      "Brand : Bullate , Model : Top , Year : 2022 , Type : sports\n"
     ]
    }
   ],
   "source": [
    "'''🔹 Scenario:\n",
    "Tumhe ek parent class Vehicle banana hai jisme sabhi vehicles ke common features hon — jaise:\n",
    "brand (Honda, Yamaha, etc.)\n",
    "model (CBR, XUV, etc.)\n",
    "year (kab banaya gaya)\n",
    "\n",
    "🔹 Phir do child class banani hai:\n",
    "Car class — isme ek extra cheez hogi: kitne log baith sakte hain → seats\n",
    "Bike class — isme ek extra feature hoga: kis type ki bike hai → type (e.g., sports ya cruiser)\n",
    "'''\n",
    "\n",
    "class Vehicle:\n",
    "    def __init__(self,brand,model,year):\n",
    "        self.brand = brand\n",
    "        self.model = model\n",
    "        self.year = year\n",
    "    def Vehicle_detail(self):\n",
    "        return(f\"Brand : {self.brand} , Model : {self.model} , Year : {self.year}\")\n",
    "\n",
    "class Car(Vehicle):\n",
    "    def __init__(self,brand,model,year,seats):\n",
    "        super().__init__(brand,model,year) \n",
    "        self.seats = seats\n",
    "    def get_info(self):\n",
    "        return(f\"{self.Vehicle_detail()} , Seats : {self.seats}\")\n",
    "\n",
    "class bick(Vehicle):\n",
    "        def __init__(self,brand,model,year,Type): # type (e.g., sports ya cruiser)\n",
    "            super().__init__(brand,model,year) \n",
    "            self.Type = Type\n",
    "        def get_info(self):\n",
    "             return (f\"{self.Vehicle_detail()} , Type : {self.Type}\")\n",
    "\n",
    "person1 = Car(\"Maybazz\" , \"S6\" , 2024 ,7)\n",
    "Custumer2 = bick(\"Bullate\" , \"Top\" , 2022 , 'sports')\n",
    "\n",
    "print(person1.get_info())\n",
    "print(Custumer2.get_info())"
   ]
  },
  {
   "cell_type": "code",
   "execution_count": null,
   "id": "40e4594d",
   "metadata": {},
   "outputs": [
    {
     "name": "stdout",
     "output_type": "stream",
     "text": [
      "Number of swaps :  4\n"
     ]
    }
   ],
   "source": [
    "# Q2. Count the number of swaps required to sort the array using Bubble Sort.\n",
    "# Input: [5, 1, 4, 2, 8] → Output: Number of swaps = ?\n",
    "\n",
    "# Function Defination\n",
    "# Time complexity : O(n^2)\n",
    "\n",
    "def bubbelSort3(arr):\n",
    "    Number_of_swaps = 0\n",
    "    n = len(arr)\n",
    "    for i in range(n):\n",
    "        for j in range(n-1-i):\n",
    "            if arr[j]>arr[j+1]:\n",
    "                Number_of_swaps+=1\n",
    "                arr[j],arr[j+1] = arr[j+1],arr[j]\n",
    "    return (Number_of_swaps)\n",
    "# Driver Code\n",
    "arr = [5,1,4,2,8]\n",
    "result = bubbelSort3(arr)\n",
    "print(\"Number of swaps : \" , result)"
   ]
  },
  {
   "cell_type": "code",
   "execution_count": 26,
   "id": "d51a9e7a",
   "metadata": {},
   "outputs": [
    {
     "name": "stdout",
     "output_type": "stream",
     "text": [
      "Shorted Array    :  [13, 12, 11, 6, 5]\n",
      "Number of Shifts :  3\n"
     ]
    }
   ],
   "source": [
    "#⬇️ Insertion Sort:\n",
    "# Q3. Sort an array using Insertion Sort but in descending order.\n",
    "# Input: [12, 11, 13, 5, 6] → Output: [13, 12, 11, 6, 5]\n",
    "#Q4. Modify Insertion Sort to return the number of shifts (how many times elements are moved).\n",
    "\n",
    "# Function Defination\n",
    "# Time complexity : O(n^2)\n",
    "def insertionSort3(arr):\n",
    "    shifts = 0\n",
    "    n = len(arr)\n",
    "    for i in range(1,n):\n",
    "        key = arr[i]\n",
    "        j = i-1\n",
    "\n",
    "        while j>=0 and arr[j]<key:\n",
    "            shifts+=1\n",
    "            arr[j+1]=arr[j]\n",
    "            j-=1\n",
    "        \n",
    "        arr[j+1] = key\n",
    "    return arr,shifts\n",
    "\n",
    "# Driver Code\n",
    "arr = [12,11,13,5,6]\n",
    "sorted_arr,shifts = insertionSort3(arr)\n",
    "print(\"Shorted Array    : \" , sorted_arr)\n",
    "print(\"Number of Shifts : \" , shifts) "
   ]
  },
  {
   "cell_type": "code",
   "execution_count": 10,
   "id": "c346090c",
   "metadata": {},
   "outputs": [
    {
     "name": "stdout",
     "output_type": "stream",
     "text": [
      "Shorted Array    :  [4, 3, 2, 1]\n",
      "Number of Swaps :  1\n"
     ]
    }
   ],
   "source": [
    "'''✅ Selection Sort:\n",
    "Q5. Sort an array using Selection Sort, but instead of selecting the minimum, select the maximum each time and sort in reverse.\n",
    "📌 Reverse Selection Sort\n",
    "Q6. Find the minimum number of swaps required to sort the array using Selection Sort.\n",
    "Input: [4, 3, 1, 2] → Output: ?'''\n",
    "\n",
    "# Fubction Defination\n",
    "def selectionSort3(arr):\n",
    "    n = len(arr)\n",
    "    min_swap = 0\n",
    "    for i in range(n):\n",
    "        largest = i\n",
    "        for j in range(i+1,n):\n",
    "            if arr[largest]<arr[j]:\n",
    "                largest = j\n",
    "        if largest != i:\n",
    "            min_swap+=1\n",
    "            arr[i],arr[largest] = arr[largest],arr[i]\n",
    "    return arr,min_swap\n",
    "# Driver Code\n",
    "arr = [4, 3, 1, 2]\n",
    "sorted_arr, min_swap = selectionSort3(arr)\n",
    "\n",
    "print(\"Shorted Array    : \" , sorted_arr)\n",
    "print(\"Number of Swaps : \" , min_swap) "
   ]
  },
  {
   "cell_type": "code",
   "execution_count": 3,
   "id": "8e1bf5c2",
   "metadata": {},
   "outputs": [
    {
     "name": "stdout",
     "output_type": "stream",
     "text": [
      "1\n",
      "3\n"
     ]
    }
   ],
   "source": [
    "'''\n",
    "🔎 Binary Search:\n",
    "Q9. Given a sorted array of duplicate integers, use Binary Search to find the first and last occurrence of a given number.\n",
    "Input: [1,2,2,2,3,4], target = 2 → Output: (1, 3)\n",
    "Q10. Given a sorted rotated array (e.g. [6,7,8,1,2,3,4]), search for a target using modified Binary Search.'''\n",
    "\n",
    "\n",
    "def firstindex(arr,terget):\n",
    "    l = 0\n",
    "    r = len(arr)-1\n",
    "    Firstindex = -1\n",
    "    while l<=r:\n",
    "        mid = l+(r-l)//2\n",
    "        if arr[mid] == terget:\n",
    "            Firstindex = mid\n",
    "            r = mid-1\n",
    "        elif arr[mid] < terget:\n",
    "            l = mid+1\n",
    "        else:\n",
    "            r = mid-1\n",
    "    return Firstindex\n",
    "        \n",
    "def lastindex(arr,terget):\n",
    "    l = 0\n",
    "    r = len(arr)-1\n",
    "    lastindex = -1\n",
    "    while l<=r:\n",
    "        mid = l+(r-l)//2\n",
    "        if arr[mid] == terget:\n",
    "            lastindex = mid\n",
    "            l = mid+1\n",
    "        elif arr[mid] < terget:\n",
    "            l = mid+1\n",
    "        else:\n",
    "            r = mid-1\n",
    "    return lastindex\n",
    "\n",
    "# Driver Code \n",
    "arr = [1,2,2,2,3,4]\n",
    "terget = 2\n",
    "First_index = firstindex(arr,terget)\n",
    "Last_index = lastindex(arr,terget)\n",
    "print(First_index)\n",
    "print(Last_index)"
   ]
  },
  {
   "cell_type": "code",
   "execution_count": null,
   "id": "4c9afc76",
   "metadata": {},
   "outputs": [
    {
     "name": "stdout",
     "output_type": "stream",
     "text": [
      "Tergete element is: 2 at index : 4\n"
     ]
    }
   ],
   "source": [
    "# Q10. Given a sorted rotated array (e.g. [6,7,8,1,2,3,4]), search for a target using modified Binary Search\n",
    "\n",
    "\n",
    "# Function Defination\n",
    "\n",
    "def modifiedBinaryserch(arr,target):\n",
    "    l = 0\n",
    "    r = len(arr)-1\n",
    "\n",
    "    while l<=r:\n",
    "        mid = l+(r-l)//2\n",
    "        if arr[mid] == target:\n",
    "            return mid\n",
    "        \n",
    "        elif arr[mid]  <= arr[r]:\n",
    "            if arr[l]<= target < arr[mid]:\n",
    "                r = mid-1\n",
    "            else:\n",
    "                l = mid+1\n",
    "        else:\n",
    "            if arr[mid] < target <= arr[r]:\n",
    "                l = mid + 1\n",
    "            else:\n",
    "                r = mid - 1\n",
    "\n",
    "# Driver Code \n",
    "arr = [6,7,8,1,2,3,4]\n",
    "target = 2\n",
    "result = modifiedBinaryserch(arr,target)\n",
    "print(\"Tergete element is:\", target , \"at index :\", result)"
   ]
  }
 ],
 "metadata": {
  "kernelspec": {
   "display_name": "Python 3",
   "language": "python",
   "name": "python3"
  },
  "language_info": {
   "codemirror_mode": {
    "name": "ipython",
    "version": 3
   },
   "file_extension": ".py",
   "mimetype": "text/x-python",
   "name": "python",
   "nbconvert_exporter": "python",
   "pygments_lexer": "ipython3",
   "version": "3.13.2"
  }
 },
 "nbformat": 4,
 "nbformat_minor": 5
}
