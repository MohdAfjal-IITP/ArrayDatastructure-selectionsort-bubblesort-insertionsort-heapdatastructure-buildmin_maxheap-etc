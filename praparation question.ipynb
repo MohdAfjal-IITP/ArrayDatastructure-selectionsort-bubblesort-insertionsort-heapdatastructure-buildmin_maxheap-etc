{
 "cells": [
  {
   "cell_type": "code",
   "execution_count": 3,
   "id": "0b2515ac",
   "metadata": {},
   "outputs": [
    {
     "name": "stdout",
     "output_type": "stream",
     "text": [
      "1\n"
     ]
    }
   ],
   "source": [
    "# Method definition  via the recursion\n",
    "def factorial(n):\n",
    "    if n<=1:\n",
    "        return 1\n",
    "    else:\n",
    "        return n*factorial(n-1)\n",
    "    \n",
    "#driver code\n",
    "n = 0\n",
    "result = factorial(n)\n",
    "print(result)"
   ]
  },
  {
   "cell_type": "code",
   "execution_count": null,
   "id": "9ac4de83",
   "metadata": {},
   "outputs": [
    {
     "name": "stdout",
     "output_type": "stream",
     "text": [
      "10\n"
     ]
    }
   ],
   "source": [
    "# sum of digit \n",
    "\n",
    "def sum_digit(n):\n",
    "    # base case condition \n",
    "    if n<10:\n",
    "        return n\n",
    "    else:\n",
    "        # recursiv function call\n",
    "        return n%10 + sum_digit(n//10)\n",
    "\n",
    "# driver code \n",
    "n = 1234\n",
    "result = sum_digit(n)\n",
    "print(result)"
   ]
  },
  {
   "cell_type": "code",
   "execution_count": 2,
   "id": "95801d4d",
   "metadata": {},
   "outputs": [
    {
     "name": "stdout",
     "output_type": "stream",
     "text": [
      "131072\n"
     ]
    }
   ],
   "source": [
    "def power_num(n,p):\n",
    "\n",
    "    # base case condition \n",
    "\n",
    "    if p == 1 :\n",
    "        return n\n",
    "    # recursive function call \n",
    "    else:\n",
    "        mid  = p//2\n",
    "        result = power_num(n,mid)\n",
    "        finalresult =  result*result\n",
    "\n",
    "        if p % 2 == 0 :\n",
    "            return finalresult\n",
    "        else :\n",
    "            return n*finalresult\n",
    "    \n",
    "# driver code \n",
    "n = 2\n",
    "p = 17\n",
    "result = power_num(n,p)\n",
    "print(result)"
   ]
  },
  {
   "cell_type": "code",
   "execution_count": 6,
   "id": "f1dfb9a8",
   "metadata": {},
   "outputs": [
    {
     "name": "stdout",
     "output_type": "stream",
     "text": [
      "0.25\n"
     ]
    }
   ],
   "source": [
    "x = 2.00000**-2\n",
    "print(x)"
   ]
  },
  {
   "cell_type": "code",
   "execution_count": null,
   "id": "c8705b12",
   "metadata": {},
   "outputs": [],
   "source": []
  }
 ],
 "metadata": {
  "kernelspec": {
   "display_name": "Python 3",
   "language": "python",
   "name": "python3"
  },
  "language_info": {
   "codemirror_mode": {
    "name": "ipython",
    "version": 3
   },
   "file_extension": ".py",
   "mimetype": "text/x-python",
   "name": "python",
   "nbconvert_exporter": "python",
   "pygments_lexer": "ipython3",
   "version": "3.13.2"
  }
 },
 "nbformat": 4,
 "nbformat_minor": 5
}
